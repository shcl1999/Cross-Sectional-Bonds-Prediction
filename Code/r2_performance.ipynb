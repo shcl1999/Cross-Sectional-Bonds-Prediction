{
 "cells": [
  {
   "cell_type": "code",
   "execution_count": 5,
   "metadata": {},
   "outputs": [],
   "source": [
    "import pandas as pd\n",
    "import matplotlib.pyplot as plt"
   ]
  },
  {
   "cell_type": "code",
   "execution_count": 10,
   "metadata": {},
   "outputs": [],
   "source": [
    "df = pd.DataFrame({\n",
    "    'Method': ['Retrain Monthly', 'Retrain & Rehypertune Monthly', 'Retrain Annually', 'Retrain & Rehypertune Annually', 'Static'],\n",
    "    'OLS 4 factor': [1.32, None, 0.81, None, 0.50],\n",
    "    'OLS All': [-37.64, None, -26.59, None, -26.82],\n",
    "    'Elastic Net': [-3.69, -0.23, -1.00, -1.00, -4.32],\n",
    "    'GLM': [0.27, None, 0.18, None, -0.16],\n",
    "    'RF': [2.01, 2.40, 2.57, 2.06, 2.18],\n",
    "    'XGBoost': [0.19, 0.07, 0.04, 0.01, 0.54],\n",
    "    'SVR': [3.33, 2.52, 3.27, 2.89, 3.31],\n",
    "    'NN': [1.35, 1.22, 1.89, 1.42, 0.51]\n",
    "})\n",
    "\n",
    "df = df[['Retraining', 'Rehypertuning', 'OLS 4 factor', 'OLS All', 'Elastic Net', 'GLM', 'RF', 'XGBoost', 'SVR', 'NN']]"
   ]
  },
  {
   "cell_type": "code",
   "execution_count": 14,
   "metadata": {},
   "outputs": [
    {
     "data": {
      "text/html": [
       "<div>\n",
       "<style scoped>\n",
       "    .dataframe tbody tr th:only-of-type {\n",
       "        vertical-align: middle;\n",
       "    }\n",
       "\n",
       "    .dataframe tbody tr th {\n",
       "        vertical-align: top;\n",
       "    }\n",
       "\n",
       "    .dataframe thead th {\n",
       "        text-align: right;\n",
       "    }\n",
       "</style>\n",
       "<table border=\"1\" class=\"dataframe\">\n",
       "  <thead>\n",
       "    <tr style=\"text-align: right;\">\n",
       "      <th></th>\n",
       "      <th>Retraining</th>\n",
       "      <th>Rehypertuning</th>\n",
       "      <th>OLS 4 factor</th>\n",
       "      <th>OLS All</th>\n",
       "      <th>Elastic Net</th>\n",
       "      <th>GLM</th>\n",
       "      <th>RF</th>\n",
       "      <th>XGBoost</th>\n",
       "      <th>SVR</th>\n",
       "      <th>NN</th>\n",
       "    </tr>\n",
       "  </thead>\n",
       "  <tbody>\n",
       "    <tr>\n",
       "      <th>0</th>\n",
       "      <td>Monthly</td>\n",
       "      <td>No</td>\n",
       "      <td>1.32</td>\n",
       "      <td>-37.64</td>\n",
       "      <td>-3.69</td>\n",
       "      <td>0.27</td>\n",
       "      <td>2.01</td>\n",
       "      <td>0.19</td>\n",
       "      <td>3.33</td>\n",
       "      <td>1.35</td>\n",
       "    </tr>\n",
       "    <tr>\n",
       "      <th>1</th>\n",
       "      <td>Monthly</td>\n",
       "      <td>Yes</td>\n",
       "      <td>NaN</td>\n",
       "      <td>NaN</td>\n",
       "      <td>-0.23</td>\n",
       "      <td>NaN</td>\n",
       "      <td>2.40</td>\n",
       "      <td>0.07</td>\n",
       "      <td>2.52</td>\n",
       "      <td>1.22</td>\n",
       "    </tr>\n",
       "    <tr>\n",
       "      <th>2</th>\n",
       "      <td>Annually</td>\n",
       "      <td>No</td>\n",
       "      <td>0.81</td>\n",
       "      <td>-26.59</td>\n",
       "      <td>-1.00</td>\n",
       "      <td>0.18</td>\n",
       "      <td>2.57</td>\n",
       "      <td>0.04</td>\n",
       "      <td>3.27</td>\n",
       "      <td>1.89</td>\n",
       "    </tr>\n",
       "    <tr>\n",
       "      <th>3</th>\n",
       "      <td>Annually</td>\n",
       "      <td>Yes</td>\n",
       "      <td>NaN</td>\n",
       "      <td>NaN</td>\n",
       "      <td>-1.00</td>\n",
       "      <td>NaN</td>\n",
       "      <td>2.06</td>\n",
       "      <td>0.01</td>\n",
       "      <td>2.89</td>\n",
       "      <td>1.42</td>\n",
       "    </tr>\n",
       "    <tr>\n",
       "      <th>4</th>\n",
       "      <td>N/A</td>\n",
       "      <td>N/A</td>\n",
       "      <td>0.50</td>\n",
       "      <td>-26.82</td>\n",
       "      <td>-4.32</td>\n",
       "      <td>-0.16</td>\n",
       "      <td>2.18</td>\n",
       "      <td>0.54</td>\n",
       "      <td>3.31</td>\n",
       "      <td>0.51</td>\n",
       "    </tr>\n",
       "  </tbody>\n",
       "</table>\n",
       "</div>"
      ],
      "text/plain": [
       "  Retraining Rehypertuning  OLS 4 factor  OLS All  Elastic Net   GLM    RF  \\\n",
       "0    Monthly            No          1.32   -37.64        -3.69  0.27  2.01   \n",
       "1    Monthly           Yes           NaN      NaN        -0.23   NaN  2.40   \n",
       "2   Annually            No          0.81   -26.59        -1.00  0.18  2.57   \n",
       "3   Annually           Yes           NaN      NaN        -1.00   NaN  2.06   \n",
       "4        N/A           N/A          0.50   -26.82        -4.32 -0.16  2.18   \n",
       "\n",
       "   XGBoost   SVR    NN  \n",
       "0     0.19  3.33  1.35  \n",
       "1     0.07  2.52  1.22  \n",
       "2     0.04  3.27  1.89  \n",
       "3     0.01  2.89  1.42  \n",
       "4     0.54  3.31  0.51  "
      ]
     },
     "execution_count": 14,
     "metadata": {},
     "output_type": "execute_result"
    }
   ],
   "source": [
    "df"
   ]
  },
  {
   "cell_type": "code",
   "execution_count": 13,
   "metadata": {},
   "outputs": [
    {
     "data": {
      "image/png": "[encoded data removed]",
      "text/plain": [
       "<Figure size 1000x500 with 1 Axes>"
      ]
     },
     "metadata": {},
     "output_type": "display_data"
    }
   ],
   "source": [
    "# Plot the data in a bar chart, =group by"
   ]
  },
  {
   "cell_type": "code",
   "execution_count": null,
   "metadata": {},
   "outputs": [],
   "source": []
  }
 ],
 "metadata": {
  "kernelspec": {
   "display_name": "Python 3",
   "language": "python",
   "name": "python3"
  },
  "language_info": {
   "codemirror_mode": {
    "name": "ipython",
    "version": 3
   },
   "file_extension": ".py",
   "mimetype": "text/x-python",
   "name": "python",
   "nbconvert_exporter": "python",
   "pygments_lexer": "ipython3",
   "version": "3.11.0"
  },
  "orig_nbformat": 4,
  "vscode": {
   "interpreter": {
    "hash": "db35a02fd5d0ba4c5963f2cd8d92bdb63f7f3bde1f98582f1ef84023082d273b"
   }
  }
 },
 "nbformat": 4,
 "nbformat_minor": 2
}
