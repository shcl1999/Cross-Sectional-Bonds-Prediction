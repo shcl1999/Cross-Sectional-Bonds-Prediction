{
 "cells": [
  {
   "cell_type": "code",
   "execution_count": null,
   "metadata": {},
   "outputs": [],
   "source": []
  },
  {
   "attachments": {},
   "cell_type": "markdown",
   "metadata": {},
   "source": [
    "# Imports"
   ]
  },
  {
   "cell_type": "code",
   "execution_count": 1,
   "metadata": {},
   "outputs": [],
   "source": [
    "import pandas as pd\n",
    "import numpy as np\n",
    "import matplotlib.pyplot as plt"
   ]
  },
  {
   "cell_type": "code",
   "execution_count": 6,
   "metadata": {},
   "outputs": [],
   "source": [
    "import py\n",
    "from Functions import splitAll\n",
    "from Functions import fit_model\n",
    "\n",
    "from sklearn.svm import SVR"
   ]
  },
  {
   "attachments": {},
   "cell_type": "markdown",
   "metadata": {},
   "source": [
    "# Get data"
   ]
  },
  {
   "cell_type": "code",
   "execution_count": 3,
   "metadata": {},
   "outputs": [],
   "source": [
    "df = pd.read_csv('dataset_ML_govvies_important1.csv')"
   ]
  },
  {
   "cell_type": "code",
   "execution_count": 4,
   "metadata": {},
   "outputs": [],
   "source": [
    "#df = pd.read_excel('dataset_ML_govvies_cleaned.xlsx')\n",
    "#X_train, Y_train, X_val, Y_val, X_test, Y_test = splitAll(df)"
   ]
  },
  {
   "attachments": {},
   "cell_type": "markdown",
   "metadata": {},
   "source": [
    "# SVM"
   ]
  },
  {
   "cell_type": "code",
   "execution_count": 10,
   "metadata": {},
   "outputs": [],
   "source": [
    "def evaluate_model_handwritten(Y_pred, Y_test):\n",
    "    # R squared score\n",
    "\n",
    "    num = (sum(pow((Y_test.ravel()-Y_pred),2)))\n",
    "    denum = sum(pow(Y_test.ravel(),2))\n",
    "\n",
    "    r2_test = 1-num/denum\n",
    "    return r2_test"
   ]
  },
  {
   "attachments": {},
   "cell_type": "markdown",
   "metadata": {},
   "source": [
    "## Dynamic, annually retraining, no hypertuning"
   ]
  },
  {
   "cell_type": "code",
   "execution_count": 26,
   "metadata": {},
   "outputs": [
    {
     "name": "stdout",
     "output_type": "stream",
     "text": [
      "Percentage of run time:  15.58 %\n",
      "Percentage of run time:  31.17 %\n",
      "Percentage of run time:  46.75 %\n",
      "Percentage of run time:  62.34 %\n",
      "Percentage of run time:  77.92 %\n",
      "Percentage of run time:  93.51 %\n"
     ]
    }
   ],
   "source": [
    "r2_list = []\n",
    "splits = [[0.6,0.8],]\n",
    "\n",
    "for split in splits:\n",
    "\n",
    "    X_train, Y_train, X_val, Y_val, X_test, Y_test = splitAll(df, non_X_cols = ['Date','Bond','Return_PD'], standardize= 'standard', splitTrain=split[0], splitVal=split[1])\n",
    "\n",
    "    model = SVR()\n",
    "    model.set_params(C=pow(10,-6), gamma=100000, kernel='sigmoid', epsilon=0.000001)\n",
    "    X_train_val = np.concatenate((X_train, X_val), axis=0)\n",
    "    Y_train_val = np.concatenate((Y_train, Y_val), axis=0)\n",
    "    model.fit(X_train_val, Y_train_val.ravel())\n",
    "\n",
    "    counter = 0\n",
    "    retrain_month = 12\n",
    "\n",
    "    Y_pred = np.zeros(Y_test.shape[0])\n",
    "\n",
    "    X_test_copy = X_test.copy()\n",
    "    Y_test_copy = Y_test.copy()\n",
    "\n",
    "    for i in range(len(X_test)):\n",
    "        Y_pred[i] = model.predict(X_test[i].reshape(1, -1))\n",
    "\n",
    "        counter += 1\n",
    "        if counter % (retrain_month*35) == 0 and counter != 0:\n",
    "            X_train = np.concatenate((X_train, X_val[:retrain_month*35]), axis=0)\n",
    "            Y_train = np.concatenate((Y_train, Y_val[:retrain_month*35]), axis=0)\n",
    "            X_val = X_val[retrain_month*35:]\n",
    "            X_val = np.concatenate((X_val, X_test_copy[:retrain_month*35]), axis=0)\n",
    "            Y_val = Y_val[retrain_month*35:]\n",
    "            Y_val = np.concatenate((Y_val, Y_test_copy[:retrain_month*35]), axis=0)\n",
    "            X_test_copy = X_test_copy[retrain_month*35:]\n",
    "            Y_test_copy = Y_test_copy[retrain_month*35:]\n",
    "            X_train_val_new = np.concatenate((X_train, X_val), axis=0)\n",
    "            Y_train_val_new = np.concatenate((Y_train, Y_val), axis=0)\n",
    "            model.fit(X_train_val_new, Y_train_val_new.ravel())\n",
    "\n",
    "            print('Percentage of run time: ', round(counter/len(X_test)*100, 2), '%')\n",
    "        \n",
    "    r2_test = evaluate_model_handwritten(Y_pred, Y_test)\n",
    "    r2_list.append(r2_test)"
   ]
  },
  {
   "cell_type": "code",
   "execution_count": 12,
   "metadata": {},
   "outputs": [
    {
     "name": "stdout",
     "output_type": "stream",
     "text": [
      "Split:  [0.3, 0.5] R2:  0.03251663796363258\n",
      "Split:  [0.4, 0.6] R2:  0.029325401759335623\n",
      "Split:  [0.5, 0.7] R2:  -0.01994244612121321\n",
      "Split:  [0.4, 0.5] R2:  0.03251663796363258\n",
      "Split:  [0.5, 0.6] R2:  0.029325401759335623\n",
      "Split:  [0.6, 0.7] R2:  -0.01994244612121321\n"
     ]
    }
   ],
   "source": [
    "for i in range(len(r2_list)):\n",
    "    print('Split: ', splits[i], 'R2: ', r2_list[i])"
   ]
  },
  {
   "cell_type": "code",
   "execution_count": 14,
   "metadata": {},
   "outputs": [
    {
     "name": "stdout",
     "output_type": "stream",
     "text": [
      "Split:  [0.3, 0.5] R2:  0.03931062520623896\n",
      "Split:  [0.4, 0.6] R2:  0.037084502736340896\n",
      "Split:  [0.5, 0.7] R2:  -0.010190498807800763\n",
      "Split:  [0.4, 0.5] R2:  0.03931062520623929\n",
      "Split:  [0.5, 0.6] R2:  0.03708450273634112\n",
      "Split:  [0.6, 0.7] R2:  -0.010190498807800541\n"
     ]
    }
   ],
   "source": [
    "for i in range(len(r2_list)):\n",
    "    print('Split: ', splits[i], 'R2: ', r2_list[i])"
   ]
  },
  {
   "cell_type": "code",
   "execution_count": 17,
   "metadata": {},
   "outputs": [
    {
     "name": "stdout",
     "output_type": "stream",
     "text": [
      "Split:  [0.3, 0.5] R2:  0.008383469253533282\n",
      "Split:  [0.4, 0.6] R2:  0.00022960840529273607\n",
      "Split:  [0.5, 0.7] R2:  -0.06189423919741999\n",
      "Split:  [0.4, 0.5] R2:  0.008383469253533282\n",
      "Split:  [0.5, 0.6] R2:  0.00022960840529273607\n",
      "Split:  [0.6, 0.7] R2:  -0.06189423919741999\n"
     ]
    }
   ],
   "source": [
    "for i in range(len(r2_list)):\n",
    "    print('Split: ', splits[i], 'R2: ', r2_list[i])"
   ]
  },
  {
   "cell_type": "code",
   "execution_count": 19,
   "metadata": {},
   "outputs": [
    {
     "name": "stdout",
     "output_type": "stream",
     "text": [
      "Split:  [0.3, 0.5] R2:  -0.005019332004187582\n",
      "Split:  [0.4, 0.6] R2:  -0.018101899501039798\n",
      "Split:  [0.5, 0.7] R2:  -0.09563470830384158\n",
      "Split:  [0.4, 0.5] R2:  -0.005019332004187582\n",
      "Split:  [0.5, 0.6] R2:  -0.018101899501039798\n",
      "Split:  [0.6, 0.7] R2:  -0.09563470830384158\n"
     ]
    }
   ],
   "source": [
    "for i in range(len(r2_list)):\n",
    "    print('Split: ', splits[i], 'R2: ', r2_list[i])"
   ]
  },
  {
   "cell_type": "code",
   "execution_count": 21,
   "metadata": {},
   "outputs": [
    {
     "name": "stdout",
     "output_type": "stream",
     "text": [
      "Split:  [0.3, 0.5] R2:  0.03953604468962879\n",
      "Split:  [0.4, 0.6] R2:  0.038092559442515994\n",
      "Split:  [0.5, 0.7] R2:  -0.008041393770885641\n",
      "Split:  [0.4, 0.5] R2:  0.0395360446896289\n",
      "Split:  [0.5, 0.6] R2:  0.03809255944251577\n",
      "Split:  [0.6, 0.7] R2:  -0.008041393770885863\n"
     ]
    }
   ],
   "source": [
    "for i in range(len(r2_list)):\n",
    "    print('Split: ', splits[i], 'R2: ', r2_list[i])"
   ]
  },
  {
   "cell_type": "code",
   "execution_count": 23,
   "metadata": {},
   "outputs": [
    {
     "name": "stdout",
     "output_type": "stream",
     "text": [
      "Split:  [0.3, 0.5] R2:  0.03998314797156066\n",
      "Split:  [0.4, 0.6] R2:  0.038250917663801065\n",
      "Split:  [0.5, 0.7] R2:  -0.007651230943860998\n"
     ]
    }
   ],
   "source": [
    "for i in range(len(r2_list)):\n",
    "    print('Split: ', splits[i], 'R2: ', r2_list[i])"
   ]
  },
  {
   "cell_type": "code",
   "execution_count": 25,
   "metadata": {},
   "outputs": [
    {
     "name": "stdout",
     "output_type": "stream",
     "text": [
      "Split:  [0.2, 0.4] R2:  0.019806718950901137\n"
     ]
    }
   ],
   "source": [
    "for i in range(len(r2_list)):\n",
    "    print('Split: ', splits[i], 'R2: ', r2_list[i])"
   ]
  },
  {
   "cell_type": "code",
   "execution_count": 27,
   "metadata": {},
   "outputs": [
    {
     "name": "stdout",
     "output_type": "stream",
     "text": [
      "Split:  [0.6, 0.8] R2:  -0.02825485741569045\n"
     ]
    }
   ],
   "source": [
    "for i in range(len(r2_list)):\n",
    "    print('Split: ', splits[i], 'R2: ', r2_list[i])"
   ]
  },
  {
   "cell_type": "code",
   "execution_count": null,
   "metadata": {},
   "outputs": [],
   "source": []
  }
 ],
 "metadata": {
  "kernelspec": {
   "display_name": "Python 3",
   "language": "python",
   "name": "python3"
  },
  "language_info": {
   "codemirror_mode": {
    "name": "ipython",
    "version": 3
   },
   "file_extension": ".py",
   "mimetype": "text/x-python",
   "name": "python",
   "nbconvert_exporter": "python",
   "pygments_lexer": "ipython3",
   "version": "3.11.0"
  },
  "orig_nbformat": 4,
  "vscode": {
   "interpreter": {
    "hash": "db35a02fd5d0ba4c5963f2cd8d92bdb63f7f3bde1f98582f1ef84023082d273b"
   }
  }
 },
 "nbformat": 4,
 "nbformat_minor": 2
}
