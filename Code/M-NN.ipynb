{
 "cells": [
  {
   "cell_type": "code",
   "execution_count": null,
   "metadata": {},
   "outputs": [],
   "source": []
  },
  {
   "attachments": {},
   "cell_type": "markdown",
   "metadata": {},
   "source": [
    "# Imports"
   ]
  },
  {
   "cell_type": "code",
   "execution_count": 7,
   "metadata": {},
   "outputs": [],
   "source": [
    "import pandas as pd\n",
    "import numpy as np\n",
    "import matplotlib.pyplot as plt"
   ]
  },
  {
   "cell_type": "code",
   "execution_count": 1,
   "metadata": {},
   "outputs": [],
   "source": [
    "import py\n",
    "from Functions import splitAll\n",
    "from Functions import fit_model"
   ]
  },
  {
   "attachments": {},
   "cell_type": "markdown",
   "metadata": {},
   "source": [
    "# Get data"
   ]
  },
  {
   "cell_type": "code",
   "execution_count": 3,
   "metadata": {},
   "outputs": [
    {
     "name": "stdout",
     "output_type": "stream",
     "text": [
      "(6720, 85)\n",
      "(6720, 1)\n"
     ]
    }
   ],
   "source": [
    "df = pd.read_excel('dataset_ML_govvies_cleaned.xlsx')\n",
    "X_train, Y_train, X_val, Y_val, X_test, Y_test = splitAll(df)"
   ]
  },
  {
   "attachments": {},
   "cell_type": "markdown",
   "metadata": {},
   "source": [
    "# Neural network"
   ]
  },
  {
   "cell_type": "code",
   "execution_count": null,
   "metadata": {},
   "outputs": [],
   "source": [
    "param_grid = {'hidden_layer_sizes': [(10,), (50,), (100,)],\n",
    "              'activation': ['tanh', 'relu'],\n",
    "              'solver': ['adam'],\n",
    "              'learning_rate_init': [0.01, 0.05, 0.1],\n",
    "              'alpha': [0.0001, 0.001, 0.01],\n",
    "              'batch_size': [32, 64, 128, 200],\n",
    "              'learning_rate': ['constant', 'adaptive'],\n",
    "              'max_iter': [200, 400, 600]\n",
    "             }\n",
    "\n",
    "\n",
    "Y_pred_oos = fit_model(X_train, Y_train, X_val, Y_val, X_test, Y_test, 'NN', param_grid)"
   ]
  },
  {
   "cell_type": "code",
   "execution_count": null,
   "metadata": {},
   "outputs": [],
   "source": []
  }
 ],
 "metadata": {
  "kernelspec": {
   "display_name": "Python 3",
   "language": "python",
   "name": "python3"
  },
  "language_info": {
   "codemirror_mode": {
    "name": "ipython",
    "version": 3
   },
   "file_extension": ".py",
   "mimetype": "text/x-python",
   "name": "python",
   "nbconvert_exporter": "python",
   "pygments_lexer": "ipython3",
   "version": "3.11.0 (main, Oct 24 2022, 18:26:48) [MSC v.1933 64 bit (AMD64)]"
  },
  "orig_nbformat": 4,
  "vscode": {
   "interpreter": {
    "hash": "db35a02fd5d0ba4c5963f2cd8d92bdb63f7f3bde1f98582f1ef84023082d273b"
   }
  }
 },
 "nbformat": 4,
 "nbformat_minor": 2
}
