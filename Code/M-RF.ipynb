{
 "cells": [
  {
   "cell_type": "code",
   "execution_count": null,
   "metadata": {},
   "outputs": [],
   "source": []
  },
  {
   "attachments": {},
   "cell_type": "markdown",
   "metadata": {},
   "source": [
    "# Imports"
   ]
  },
  {
   "cell_type": "code",
   "execution_count": 1,
   "metadata": {},
   "outputs": [],
   "source": [
    "import pandas as pd\n",
    "import numpy as np\n",
    "import matplotlib.pyplot as plt"
   ]
  },
  {
   "cell_type": "code",
   "execution_count": 2,
   "metadata": {},
   "outputs": [],
   "source": [
    "import py\n",
    "from Functions import splitAll\n",
    "from Functions import fit_model"
   ]
  },
  {
   "attachments": {},
   "cell_type": "markdown",
   "metadata": {},
   "source": [
    "# Get data"
   ]
  },
  {
   "cell_type": "code",
   "execution_count": 3,
   "metadata": {},
   "outputs": [],
   "source": [
    "df = pd.read_excel('dataset_ML_govvies_cleaned.xlsx')\n",
    "X_train, Y_train, X_val, Y_val, X_test, Y_test = splitAll(df)"
   ]
  },
  {
   "attachments": {},
   "cell_type": "markdown",
   "metadata": {},
   "source": [
    "# RF"
   ]
  },
  {
   "cell_type": "code",
   "execution_count": 4,
   "metadata": {},
   "outputs": [
    {
     "name": "stdout",
     "output_type": "stream",
     "text": [
      "Percentage of run time:  10.43 %\n",
      "Percentage of run time:  20.87 %\n",
      "Percentage of run time:  31.3 %\n",
      "Percentage of run time:  41.74 %\n",
      "Percentage of run time:  52.17 %\n",
      "Percentage of run time:  62.61 %\n",
      "Percentage of run time:  73.04 %\n",
      "Percentage of run time:  83.48 %\n",
      "Percentage of run time:  93.91 %\n",
      "R2 score:  -0.0755683138903045\n"
     ]
    }
   ],
   "source": [
    "# make a parameter grid for GridSearchCV\n",
    "# Max depth: 1 till 6\n",
    "# trees 200, 300, 400\n",
    "# features in each split: 3,5, 10, 20, 30, 50, 100, 200\n",
    "param_grid = {\n",
    "    'max_depth': [1,2,3,4,5,6],\n",
    "    'n_estimators': [100, 200, 300],\n",
    "    'max_features': [3,5,10,20,30,50,100,200]\n",
    "}\n",
    "\n",
    "Y_pred_oos = fit_model(X_train, Y_train, X_val, Y_val, X_test, Y_test, 'RF', param_grid)"
   ]
  }
 ],
 "metadata": {
  "kernelspec": {
   "display_name": "Python 3",
   "language": "python",
   "name": "python3"
  },
  "language_info": {
   "codemirror_mode": {
    "name": "ipython",
    "version": 3
   },
   "file_extension": ".py",
   "mimetype": "text/x-python",
   "name": "python",
   "nbconvert_exporter": "python",
   "pygments_lexer": "ipython3",
   "version": "3.11.0 (main, Oct 24 2022, 18:26:48) [MSC v.1933 64 bit (AMD64)]"
  },
  "orig_nbformat": 4,
  "vscode": {
   "interpreter": {
    "hash": "db35a02fd5d0ba4c5963f2cd8d92bdb63f7f3bde1f98582f1ef84023082d273b"
   }
  }
 },
 "nbformat": 4,
 "nbformat_minor": 2
}
