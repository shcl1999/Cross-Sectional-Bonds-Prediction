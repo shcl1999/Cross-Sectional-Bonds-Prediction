{
 "cells": [
  {
   "cell_type": "code",
   "execution_count": null,
   "metadata": {},
   "outputs": [],
   "source": []
  },
  {
   "attachments": {},
   "cell_type": "markdown",
   "metadata": {},
   "source": [
    "# Imports"
   ]
  },
  {
   "cell_type": "code",
   "execution_count": 1,
   "metadata": {},
   "outputs": [],
   "source": [
    "import pandas as pd\n",
    "import numpy as np\n",
    "import matplotlib.pyplot as plt"
   ]
  },
  {
   "cell_type": "code",
   "execution_count": 2,
   "metadata": {},
   "outputs": [],
   "source": [
    "import py\n",
    "from Functions import splitAll\n",
    "from Functions import fit_model"
   ]
  },
  {
   "attachments": {},
   "cell_type": "markdown",
   "metadata": {},
   "source": [
    "# Get data"
   ]
  },
  {
   "cell_type": "code",
   "execution_count": 3,
   "metadata": {},
   "outputs": [],
   "source": [
    "df = pd.read_csv('dataset_ML_govvies_important1.csv')"
   ]
  },
  {
   "cell_type": "code",
   "execution_count": 4,
   "metadata": {},
   "outputs": [],
   "source": [
    "#df = pd.read_excel('dataset_ML_govvies_cleaned.xlsx')\n",
    "#X_train, Y_train, X_val, Y_val, X_test, Y_test = splitAll(df)"
   ]
  },
  {
   "attachments": {},
   "cell_type": "markdown",
   "metadata": {},
   "source": [
    "# SVM"
   ]
  },
  {
   "cell_type": "code",
   "execution_count": 6,
   "metadata": {},
   "outputs": [],
   "source": [
    "from sklearn.svm import SVR\n",
    "\n",
    "def evaluate_model_handwritten(Y_pred, Y_test):\n",
    "    # R squared score\n",
    "\n",
    "    num = (sum(pow((Y_test.ravel()-Y_pred),2)))\n",
    "    denum = sum(pow(Y_test.ravel(),2))\n",
    "\n",
    "    r2_test = 1-num/denum\n",
    "    return r2_test"
   ]
  },
  {
   "attachments": {},
   "cell_type": "markdown",
   "metadata": {},
   "source": [
    "# Static"
   ]
  },
  {
   "cell_type": "code",
   "execution_count": 7,
   "metadata": {},
   "outputs": [
    {
     "name": "stdout",
     "output_type": "stream",
     "text": [
      "0.03312741111006812\n"
     ]
    }
   ],
   "source": [
    "params = {\n",
    "    'C': [1],\n",
    "    'gamma': [10,],\n",
    "    'kernel': ['sigmoid',],\n",
    "    'epsilon': [0.001]\n",
    "}\n",
    "\n",
    "\n",
    "for c in params['C']:\n",
    "    for g in params['gamma']:\n",
    "        for k in params['kernel']:\n",
    "            for e in params['epsilon']:\n",
    "                model = SVR()\n",
    "                model.set_params(C=pow(10,-6), gamma=100000, kernel=k, epsilon=e)\n",
    "                X_train_val = np.concatenate((X_train, X_val), axis=0)\n",
    "                Y_train_val = np.concatenate((Y_train, Y_val), axis=0)\n",
    "                model.fit(X_train_val, Y_train_val.ravel())\n",
    "                Y_pred = model.predict(X_test)\n",
    "                r2_test = evaluate_model_handwritten(Y_pred, Y_test)\n",
    "                print(r2_test)"
   ]
  },
  {
   "attachments": {},
   "cell_type": "markdown",
   "metadata": {},
   "source": [
    "## Dynamic, annually retraining, no hypertuning"
   ]
  },
  {
   "cell_type": "code",
   "execution_count": 5,
   "metadata": {},
   "outputs": [
    {
     "name": "stdout",
     "output_type": "stream",
     "text": [
      "Starting model fitting...\n"
     ]
    },
    {
     "name": "stderr",
     "output_type": "stream",
     "text": [
      "c:\\Users\\sunny\\AppData\\Local\\Programs\\Python\\Python311\\Lib\\site-packages\\sklearn\\utils\\validation.py:1141: DataConversionWarning: A column-vector y was passed when a 1d array was expected. Please change the shape of y to (n_samples, ), for example using ravel().\n",
      "  y = column_or_1d(y, warn=True)\n"
     ]
    },
    {
     "name": "stdout",
     "output_type": "stream",
     "text": [
      "Dynamic method\n",
      "Hyperparameter tuning once\n",
      "Starting predictions...\n"
     ]
    },
    {
     "name": "stderr",
     "output_type": "stream",
     "text": [
      "c:\\Users\\sunny\\AppData\\Local\\Programs\\Python\\Python311\\Lib\\site-packages\\sklearn\\utils\\validation.py:1141: DataConversionWarning: A column-vector y was passed when a 1d array was expected. Please change the shape of y to (n_samples, ), for example using ravel().\n",
      "  y = column_or_1d(y, warn=True)\n"
     ]
    },
    {
     "name": "stdout",
     "output_type": "stream",
     "text": [
      "Percentage of run time:  6.22 %\n",
      "Temp R2 score:  -0.0771957467238118\n"
     ]
    },
    {
     "name": "stderr",
     "output_type": "stream",
     "text": [
      "c:\\Users\\sunny\\AppData\\Local\\Programs\\Python\\Python311\\Lib\\site-packages\\sklearn\\utils\\validation.py:1141: DataConversionWarning: A column-vector y was passed when a 1d array was expected. Please change the shape of y to (n_samples, ), for example using ravel().\n",
      "  y = column_or_1d(y, warn=True)\n"
     ]
    },
    {
     "name": "stdout",
     "output_type": "stream",
     "text": [
      "Percentage of run time:  12.44 %\n",
      "Temp R2 score:  -0.01721988440953104\n"
     ]
    },
    {
     "name": "stderr",
     "output_type": "stream",
     "text": [
      "c:\\Users\\sunny\\AppData\\Local\\Programs\\Python\\Python311\\Lib\\site-packages\\sklearn\\utils\\validation.py:1141: DataConversionWarning: A column-vector y was passed when a 1d array was expected. Please change the shape of y to (n_samples, ), for example using ravel().\n",
      "  y = column_or_1d(y, warn=True)\n"
     ]
    },
    {
     "name": "stdout",
     "output_type": "stream",
     "text": [
      "Percentage of run time:  18.65 %\n",
      "Temp R2 score:  0.028082097685783625\n"
     ]
    },
    {
     "name": "stderr",
     "output_type": "stream",
     "text": [
      "c:\\Users\\sunny\\AppData\\Local\\Programs\\Python\\Python311\\Lib\\site-packages\\sklearn\\utils\\validation.py:1141: DataConversionWarning: A column-vector y was passed when a 1d array was expected. Please change the shape of y to (n_samples, ), for example using ravel().\n",
      "  y = column_or_1d(y, warn=True)\n"
     ]
    },
    {
     "name": "stdout",
     "output_type": "stream",
     "text": [
      "Percentage of run time:  24.87 %\n",
      "Temp R2 score:  0.013988498712441122\n"
     ]
    },
    {
     "name": "stderr",
     "output_type": "stream",
     "text": [
      "c:\\Users\\sunny\\AppData\\Local\\Programs\\Python\\Python311\\Lib\\site-packages\\sklearn\\utils\\validation.py:1141: DataConversionWarning: A column-vector y was passed when a 1d array was expected. Please change the shape of y to (n_samples, ), for example using ravel().\n",
      "  y = column_or_1d(y, warn=True)\n"
     ]
    },
    {
     "name": "stdout",
     "output_type": "stream",
     "text": [
      "Percentage of run time:  31.09 %\n",
      "Temp R2 score:  0.012932467262832925\n"
     ]
    },
    {
     "name": "stderr",
     "output_type": "stream",
     "text": [
      "c:\\Users\\sunny\\AppData\\Local\\Programs\\Python\\Python311\\Lib\\site-packages\\sklearn\\utils\\validation.py:1141: DataConversionWarning: A column-vector y was passed when a 1d array was expected. Please change the shape of y to (n_samples, ), for example using ravel().\n",
      "  y = column_or_1d(y, warn=True)\n"
     ]
    },
    {
     "name": "stdout",
     "output_type": "stream",
     "text": [
      "Percentage of run time:  37.31 %\n",
      "Temp R2 score:  0.017637966112702852\n"
     ]
    },
    {
     "name": "stderr",
     "output_type": "stream",
     "text": [
      "c:\\Users\\sunny\\AppData\\Local\\Programs\\Python\\Python311\\Lib\\site-packages\\sklearn\\utils\\validation.py:1141: DataConversionWarning: A column-vector y was passed when a 1d array was expected. Please change the shape of y to (n_samples, ), for example using ravel().\n",
      "  y = column_or_1d(y, warn=True)\n"
     ]
    },
    {
     "name": "stdout",
     "output_type": "stream",
     "text": [
      "Percentage of run time:  43.52 %\n",
      "Temp R2 score:  0.01721359620736862\n"
     ]
    },
    {
     "name": "stderr",
     "output_type": "stream",
     "text": [
      "c:\\Users\\sunny\\AppData\\Local\\Programs\\Python\\Python311\\Lib\\site-packages\\sklearn\\utils\\validation.py:1141: DataConversionWarning: A column-vector y was passed when a 1d array was expected. Please change the shape of y to (n_samples, ), for example using ravel().\n",
      "  y = column_or_1d(y, warn=True)\n"
     ]
    },
    {
     "name": "stdout",
     "output_type": "stream",
     "text": [
      "Percentage of run time:  49.74 %\n",
      "Temp R2 score:  0.022138186126958503\n"
     ]
    },
    {
     "name": "stderr",
     "output_type": "stream",
     "text": [
      "c:\\Users\\sunny\\AppData\\Local\\Programs\\Python\\Python311\\Lib\\site-packages\\sklearn\\utils\\validation.py:1141: DataConversionWarning: A column-vector y was passed when a 1d array was expected. Please change the shape of y to (n_samples, ), for example using ravel().\n",
      "  y = column_or_1d(y, warn=True)\n"
     ]
    },
    {
     "name": "stdout",
     "output_type": "stream",
     "text": [
      "Percentage of run time:  55.96 %\n",
      "Temp R2 score:  0.01871561309203329\n"
     ]
    },
    {
     "name": "stderr",
     "output_type": "stream",
     "text": [
      "c:\\Users\\sunny\\AppData\\Local\\Programs\\Python\\Python311\\Lib\\site-packages\\sklearn\\utils\\validation.py:1141: DataConversionWarning: A column-vector y was passed when a 1d array was expected. Please change the shape of y to (n_samples, ), for example using ravel().\n",
      "  y = column_or_1d(y, warn=True)\n"
     ]
    },
    {
     "name": "stdout",
     "output_type": "stream",
     "text": [
      "Percentage of run time:  62.18 %\n",
      "Temp R2 score:  0.01951620837600343\n"
     ]
    },
    {
     "name": "stderr",
     "output_type": "stream",
     "text": [
      "c:\\Users\\sunny\\AppData\\Local\\Programs\\Python\\Python311\\Lib\\site-packages\\sklearn\\utils\\validation.py:1141: DataConversionWarning: A column-vector y was passed when a 1d array was expected. Please change the shape of y to (n_samples, ), for example using ravel().\n",
      "  y = column_or_1d(y, warn=True)\n"
     ]
    },
    {
     "name": "stdout",
     "output_type": "stream",
     "text": [
      "Percentage of run time:  68.39 %\n",
      "Temp R2 score:  0.021266088742423417\n"
     ]
    },
    {
     "name": "stderr",
     "output_type": "stream",
     "text": [
      "c:\\Users\\sunny\\AppData\\Local\\Programs\\Python\\Python311\\Lib\\site-packages\\sklearn\\utils\\validation.py:1141: DataConversionWarning: A column-vector y was passed when a 1d array was expected. Please change the shape of y to (n_samples, ), for example using ravel().\n",
      "  y = column_or_1d(y, warn=True)\n"
     ]
    },
    {
     "name": "stdout",
     "output_type": "stream",
     "text": [
      "Percentage of run time:  74.61 %\n",
      "Temp R2 score:  0.02181417440150324\n"
     ]
    },
    {
     "name": "stderr",
     "output_type": "stream",
     "text": [
      "c:\\Users\\sunny\\AppData\\Local\\Programs\\Python\\Python311\\Lib\\site-packages\\sklearn\\utils\\validation.py:1141: DataConversionWarning: A column-vector y was passed when a 1d array was expected. Please change the shape of y to (n_samples, ), for example using ravel().\n",
      "  y = column_or_1d(y, warn=True)\n"
     ]
    },
    {
     "name": "stdout",
     "output_type": "stream",
     "text": [
      "Percentage of run time:  80.83 %\n",
      "Temp R2 score:  0.02121386509136136\n"
     ]
    },
    {
     "name": "stderr",
     "output_type": "stream",
     "text": [
      "c:\\Users\\sunny\\AppData\\Local\\Programs\\Python\\Python311\\Lib\\site-packages\\sklearn\\utils\\validation.py:1141: DataConversionWarning: A column-vector y was passed when a 1d array was expected. Please change the shape of y to (n_samples, ), for example using ravel().\n",
      "  y = column_or_1d(y, warn=True)\n"
     ]
    },
    {
     "name": "stdout",
     "output_type": "stream",
     "text": [
      "Percentage of run time:  87.05 %\n",
      "Temp R2 score:  0.018745187128885288\n"
     ]
    },
    {
     "name": "stderr",
     "output_type": "stream",
     "text": [
      "c:\\Users\\sunny\\AppData\\Local\\Programs\\Python\\Python311\\Lib\\site-packages\\sklearn\\utils\\validation.py:1141: DataConversionWarning: A column-vector y was passed when a 1d array was expected. Please change the shape of y to (n_samples, ), for example using ravel().\n",
      "  y = column_or_1d(y, warn=True)\n"
     ]
    },
    {
     "name": "stdout",
     "output_type": "stream",
     "text": [
      "Percentage of run time:  93.26 %\n",
      "Temp R2 score:  0.020351718716268397\n"
     ]
    },
    {
     "name": "stderr",
     "output_type": "stream",
     "text": [
      "c:\\Users\\sunny\\AppData\\Local\\Programs\\Python\\Python311\\Lib\\site-packages\\sklearn\\utils\\validation.py:1141: DataConversionWarning: A column-vector y was passed when a 1d array was expected. Please change the shape of y to (n_samples, ), for example using ravel().\n",
      "  y = column_or_1d(y, warn=True)\n"
     ]
    },
    {
     "name": "stdout",
     "output_type": "stream",
     "text": [
      "Percentage of run time:  99.48 %\n",
      "Temp R2 score:  0.01207789716207508\n",
      "Traditional R2 score:  0.01181008599600375\n",
      "Gu Kelly R2 score: 0.03371322639424934\n"
     ]
    }
   ],
   "source": [
    "params = {\n",
    "    'C': [pow(10,-6)],\n",
    "    'gamma': [100000,],\n",
    "    'kernel': ['sigmoid', 'rbf', 'poly'],\n",
    "    'epsilon': [0.001]\n",
    "}\n",
    "\n",
    "Y_pred = fit_model(X_train, Y_train, X_val, Y_val, X_test, Y_test, 'SVM', params, retain_month = 12, hypertuneOnce = True)\n",
    "\n",
    "df1 = pd.DataFrame(Y_pred, columns = ['SVR_Y_pred'])\n",
    "df1.to_csv('Y_pred_SVR.csv', index=False)"
   ]
  },
  {
   "cell_type": "code",
   "execution_count": 6,
   "metadata": {},
   "outputs": [],
   "source": [
    "df_vim = pd.DataFrame(Vim_mat)\n",
    "\n",
    "df_vim.to_csv('VIM_SVM_full.csv', index=False)"
   ]
  },
  {
   "cell_type": "code",
   "execution_count": 20,
   "metadata": {},
   "outputs": [
    {
     "name": "stdout",
     "output_type": "stream",
     "text": [
      "Percentage of run time:  6.25 %\n",
      "Percentage of run time:  12.5 %\n",
      "Percentage of run time:  18.75 %\n",
      "Percentage of run time:  25.0 %\n",
      "Percentage of run time:  31.25 %\n",
      "Percentage of run time:  37.5 %\n",
      "Percentage of run time:  43.75 %\n",
      "Percentage of run time:  50.0 %\n",
      "Percentage of run time:  56.25 %\n",
      "Percentage of run time:  62.5 %\n",
      "Percentage of run time:  68.75 %\n",
      "Percentage of run time:  75.0 %\n",
      "Percentage of run time:  81.25 %\n",
      "Percentage of run time:  87.5 %\n",
      "Percentage of run time:  93.75 %\n",
      "Percentage of run time:  100.0 %\n",
      "-0.018732767382603432\n"
     ]
    }
   ],
   "source": [
    "model.set_params(C=pow(10,-6), gamma=100000, kernel='sigmoid', epsilon=0.001)\n",
    "X_train_val = np.concatenate((X_train, X_val), axis=0)\n",
    "Y_train_val = np.concatenate((Y_train, Y_val), axis=0)\n",
    "model.fit(X_train_val, Y_train_val.ravel())\n",
    "\n",
    "counter = 0\n",
    "retain_month = 12\n",
    "\n",
    "Y_pred = np.zeros(Y_test.shape[0])\n",
    "\n",
    "X_test_copy = X_test.copy()\n",
    "Y_test_copy = Y_test.copy()\n",
    "\n",
    "for i in range(len(X_test)):\n",
    "    Y_pred[i] = model.predict(X_test[i].reshape(1, -1))\n",
    "\n",
    "    counter += 1\n",
    "    if counter % (retain_month*35) == 0 and counter != 0:\n",
    "        X_train = np.concatenate((X_train, X_val[:retain_month*35]), axis=0)\n",
    "        Y_train = np.concatenate((Y_train, Y_val[:retain_month*35]), axis=0)\n",
    "        X_val = X_val[retain_month*35:]\n",
    "        X_val = np.concatenate((X_val, X_test_copy[:retain_month*35]), axis=0)\n",
    "        Y_val = Y_val[retain_month*35:]\n",
    "        Y_val = np.concatenate((Y_val, Y_test_copy[:retain_month*35]), axis=0)\n",
    "        X_test_copy = X_test_copy[retain_month*35:]\n",
    "        Y_test_copy = Y_test_copy[retain_month*35:]\n",
    "        X_train_val_new = np.concatenate((X_train, X_val), axis=0)\n",
    "        Y_train_val_new = np.concatenate((Y_train, Y_val), axis=0)\n",
    "        model.fit(X_train_val_new, Y_train_val_new.ravel())\n",
    "\n",
    "        print('Percentage of run time: ', round(counter/len(X_test)*100, 2), '%')\n",
    "    \n",
    "r2_test = evaluate_model_handwritten(Y_pred, Y_test)\n",
    "print(r2_test)"
   ]
  },
  {
   "attachments": {},
   "cell_type": "markdown",
   "metadata": {},
   "source": [
    "# Dynamic, monthly retraining, no hypertuning"
   ]
  },
  {
   "cell_type": "code",
   "execution_count": 17,
   "metadata": {},
   "outputs": [
    {
     "name": "stdout",
     "output_type": "stream",
     "text": [
      "Percentage of run time:  0.52 %\n",
      "Percentage of run time:  1.04 %\n",
      "Percentage of run time:  1.56 %\n",
      "Percentage of run time:  2.08 %\n",
      "Percentage of run time:  2.6 %\n",
      "Percentage of run time:  3.12 %\n",
      "Percentage of run time:  3.65 %\n",
      "Percentage of run time:  4.17 %\n",
      "Percentage of run time:  4.69 %\n",
      "Percentage of run time:  5.21 %\n",
      "Percentage of run time:  5.73 %\n",
      "Percentage of run time:  6.25 %\n",
      "Percentage of run time:  6.77 %\n",
      "Percentage of run time:  7.29 %\n",
      "Percentage of run time:  7.81 %\n",
      "Percentage of run time:  8.33 %\n",
      "Percentage of run time:  8.85 %\n",
      "Percentage of run time:  9.38 %\n",
      "Percentage of run time:  9.9 %\n",
      "Percentage of run time:  10.42 %\n",
      "Percentage of run time:  10.94 %\n",
      "Percentage of run time:  11.46 %\n",
      "Percentage of run time:  11.98 %\n",
      "Percentage of run time:  12.5 %\n",
      "Percentage of run time:  13.02 %\n",
      "Percentage of run time:  13.54 %\n",
      "Percentage of run time:  14.06 %\n",
      "Percentage of run time:  14.58 %\n",
      "Percentage of run time:  15.1 %\n",
      "Percentage of run time:  15.62 %\n",
      "Percentage of run time:  16.15 %\n",
      "Percentage of run time:  16.67 %\n",
      "Percentage of run time:  17.19 %\n",
      "Percentage of run time:  17.71 %\n",
      "Percentage of run time:  18.23 %\n",
      "Percentage of run time:  18.75 %\n",
      "Percentage of run time:  19.27 %\n",
      "Percentage of run time:  19.79 %\n",
      "Percentage of run time:  20.31 %\n",
      "Percentage of run time:  20.83 %\n",
      "Percentage of run time:  21.35 %\n",
      "Percentage of run time:  21.88 %\n",
      "Percentage of run time:  22.4 %\n",
      "Percentage of run time:  22.92 %\n",
      "Percentage of run time:  23.44 %\n",
      "Percentage of run time:  23.96 %\n",
      "Percentage of run time:  24.48 %\n",
      "Percentage of run time:  25.0 %\n",
      "Percentage of run time:  25.52 %\n",
      "Percentage of run time:  26.04 %\n",
      "Percentage of run time:  26.56 %\n",
      "Percentage of run time:  27.08 %\n",
      "Percentage of run time:  27.6 %\n",
      "Percentage of run time:  28.12 %\n",
      "Percentage of run time:  28.65 %\n",
      "Percentage of run time:  29.17 %\n",
      "Percentage of run time:  29.69 %\n",
      "Percentage of run time:  30.21 %\n",
      "Percentage of run time:  30.73 %\n",
      "Percentage of run time:  31.25 %\n",
      "Percentage of run time:  31.77 %\n",
      "Percentage of run time:  32.29 %\n",
      "Percentage of run time:  32.81 %\n",
      "Percentage of run time:  33.33 %\n",
      "Percentage of run time:  33.85 %\n",
      "Percentage of run time:  34.38 %\n",
      "Percentage of run time:  34.9 %\n",
      "Percentage of run time:  35.42 %\n",
      "Percentage of run time:  35.94 %\n",
      "Percentage of run time:  36.46 %\n",
      "Percentage of run time:  36.98 %\n",
      "Percentage of run time:  37.5 %\n",
      "Percentage of run time:  38.02 %\n",
      "Percentage of run time:  38.54 %\n",
      "Percentage of run time:  39.06 %\n",
      "Percentage of run time:  39.58 %\n",
      "Percentage of run time:  40.1 %\n",
      "Percentage of run time:  40.62 %\n",
      "Percentage of run time:  41.15 %\n",
      "Percentage of run time:  41.67 %\n",
      "Percentage of run time:  42.19 %\n",
      "Percentage of run time:  42.71 %\n",
      "Percentage of run time:  43.23 %\n",
      "Percentage of run time:  43.75 %\n",
      "Percentage of run time:  44.27 %\n",
      "Percentage of run time:  44.79 %\n",
      "Percentage of run time:  45.31 %\n",
      "Percentage of run time:  45.83 %\n",
      "Percentage of run time:  46.35 %\n",
      "Percentage of run time:  46.88 %\n",
      "Percentage of run time:  47.4 %\n",
      "Percentage of run time:  47.92 %\n",
      "Percentage of run time:  48.44 %\n",
      "Percentage of run time:  48.96 %\n",
      "Percentage of run time:  49.48 %\n",
      "Percentage of run time:  50.0 %\n",
      "Percentage of run time:  50.52 %\n",
      "Percentage of run time:  51.04 %\n",
      "Percentage of run time:  51.56 %\n",
      "Percentage of run time:  52.08 %\n",
      "Percentage of run time:  52.6 %\n",
      "Percentage of run time:  53.12 %\n",
      "Percentage of run time:  53.65 %\n",
      "Percentage of run time:  54.17 %\n",
      "Percentage of run time:  54.69 %\n",
      "Percentage of run time:  55.21 %\n",
      "Percentage of run time:  55.73 %\n",
      "Percentage of run time:  56.25 %\n",
      "Percentage of run time:  56.77 %\n",
      "Percentage of run time:  57.29 %\n",
      "Percentage of run time:  57.81 %\n",
      "Percentage of run time:  58.33 %\n",
      "Percentage of run time:  58.85 %\n",
      "Percentage of run time:  59.38 %\n",
      "Percentage of run time:  59.9 %\n",
      "Percentage of run time:  60.42 %\n",
      "Percentage of run time:  60.94 %\n",
      "Percentage of run time:  61.46 %\n",
      "Percentage of run time:  61.98 %\n",
      "Percentage of run time:  62.5 %\n",
      "Percentage of run time:  63.02 %\n",
      "Percentage of run time:  63.54 %\n",
      "Percentage of run time:  64.06 %\n",
      "Percentage of run time:  64.58 %\n",
      "Percentage of run time:  65.1 %\n",
      "Percentage of run time:  65.62 %\n",
      "Percentage of run time:  66.15 %\n",
      "Percentage of run time:  66.67 %\n",
      "Percentage of run time:  67.19 %\n",
      "Percentage of run time:  67.71 %\n",
      "Percentage of run time:  68.23 %\n",
      "Percentage of run time:  68.75 %\n",
      "Percentage of run time:  69.27 %\n",
      "Percentage of run time:  69.79 %\n",
      "Percentage of run time:  70.31 %\n",
      "Percentage of run time:  70.83 %\n",
      "Percentage of run time:  71.35 %\n",
      "Percentage of run time:  71.88 %\n",
      "Percentage of run time:  72.4 %\n",
      "Percentage of run time:  72.92 %\n",
      "Percentage of run time:  73.44 %\n",
      "Percentage of run time:  73.96 %\n",
      "Percentage of run time:  74.48 %\n",
      "Percentage of run time:  75.0 %\n",
      "Percentage of run time:  75.52 %\n",
      "Percentage of run time:  76.04 %\n",
      "Percentage of run time:  76.56 %\n",
      "Percentage of run time:  77.08 %\n",
      "Percentage of run time:  77.6 %\n",
      "Percentage of run time:  78.12 %\n",
      "Percentage of run time:  78.65 %\n",
      "Percentage of run time:  79.17 %\n",
      "Percentage of run time:  79.69 %\n",
      "Percentage of run time:  80.21 %\n",
      "Percentage of run time:  80.73 %\n",
      "Percentage of run time:  81.25 %\n",
      "Percentage of run time:  81.77 %\n",
      "Percentage of run time:  82.29 %\n",
      "Percentage of run time:  82.81 %\n",
      "Percentage of run time:  83.33 %\n",
      "Percentage of run time:  83.85 %\n",
      "Percentage of run time:  84.38 %\n",
      "Percentage of run time:  84.9 %\n",
      "Percentage of run time:  85.42 %\n",
      "Percentage of run time:  85.94 %\n",
      "Percentage of run time:  86.46 %\n",
      "Percentage of run time:  86.98 %\n",
      "Percentage of run time:  87.5 %\n",
      "Percentage of run time:  88.02 %\n",
      "Percentage of run time:  88.54 %\n",
      "Percentage of run time:  89.06 %\n",
      "Percentage of run time:  89.58 %\n",
      "Percentage of run time:  90.1 %\n",
      "Percentage of run time:  90.62 %\n",
      "Percentage of run time:  91.15 %\n",
      "Percentage of run time:  91.67 %\n",
      "Percentage of run time:  92.19 %\n",
      "Percentage of run time:  92.71 %\n",
      "Percentage of run time:  93.23 %\n",
      "Percentage of run time:  93.75 %\n",
      "Percentage of run time:  94.27 %\n",
      "Percentage of run time:  94.79 %\n",
      "Percentage of run time:  95.31 %\n",
      "Percentage of run time:  95.83 %\n",
      "Percentage of run time:  96.35 %\n",
      "Percentage of run time:  96.88 %\n",
      "Percentage of run time:  97.4 %\n",
      "Percentage of run time:  97.92 %\n",
      "Percentage of run time:  98.44 %\n",
      "Percentage of run time:  98.96 %\n",
      "Percentage of run time:  99.48 %\n",
      "Percentage of run time:  100.0 %\n",
      "0.03326459941341153\n"
     ]
    }
   ],
   "source": [
    "\n",
    "model.set_params(C=pow(10,-6), gamma=100000, kernel='sigmoid', epsilon=0.001)\n",
    "X_train_val = np.concatenate((X_train, X_val), axis=0)\n",
    "Y_train_val = np.concatenate((Y_train, Y_val), axis=0)\n",
    "model.fit(X_train_val, Y_train_val.ravel())\n",
    "\n",
    "counter = 0\n",
    "retain_month = 1\n",
    "\n",
    "Y_pred = np.zeros(Y_test.shape[0])\n",
    "\n",
    "X_test_copy = X_test.copy()\n",
    "Y_test_copy = Y_test.copy()\n",
    "\n",
    "for i in range(len(X_test)):\n",
    "    Y_pred[i] = model.predict(X_test[i].reshape(1, -1))\n",
    "\n",
    "    counter += 1\n",
    "    if counter % (retain_month*35) == 0 and counter != 0:\n",
    "        X_train = np.concatenate((X_train, X_val[:retain_month*35]), axis=0)\n",
    "        Y_train = np.concatenate((Y_train, Y_val[:retain_month*35]), axis=0)\n",
    "        X_val = X_val[retain_month*35:]\n",
    "        X_val = np.concatenate((X_val, X_test_copy[:retain_month*35]), axis=0)\n",
    "        Y_val = Y_val[retain_month*35:]\n",
    "        Y_val = np.concatenate((Y_val, Y_test_copy[:retain_month*35]), axis=0)\n",
    "        X_test_copy = X_test_copy[retain_month*35:]\n",
    "        Y_test_copy = Y_test_copy[retain_month*35:]\n",
    "        X_train_val_new = np.concatenate((X_train, X_val), axis=0)\n",
    "        Y_train_val_new = np.concatenate((Y_train, Y_val), axis=0)\n",
    "        model.fit(X_train_val_new, Y_train_val_new.ravel())\n",
    "\n",
    "        print('Percentage of run time: ', round(counter/len(X_test)*100, 2), '%')\n",
    "    \n",
    "r2_test = evaluate_model_handwritten(Y_pred, Y_test)\n",
    "print(r2_test)"
   ]
  },
  {
   "cell_type": "code",
   "execution_count": null,
   "metadata": {},
   "outputs": [],
   "source": []
  }
 ],
 "metadata": {
  "kernelspec": {
   "display_name": "Python 3",
   "language": "python",
   "name": "python3"
  },
  "language_info": {
   "codemirror_mode": {
    "name": "ipython",
    "version": 3
   },
   "file_extension": ".py",
   "mimetype": "text/x-python",
   "name": "python",
   "nbconvert_exporter": "python",
   "pygments_lexer": "ipython3",
   "version": "3.11.0 (main, Oct 24 2022, 18:26:48) [MSC v.1933 64 bit (AMD64)]"
  },
  "orig_nbformat": 4,
  "vscode": {
   "interpreter": {
    "hash": "db35a02fd5d0ba4c5963f2cd8d92bdb63f7f3bde1f98582f1ef84023082d273b"
   }
  }
 },
 "nbformat": 4,
 "nbformat_minor": 2
}
