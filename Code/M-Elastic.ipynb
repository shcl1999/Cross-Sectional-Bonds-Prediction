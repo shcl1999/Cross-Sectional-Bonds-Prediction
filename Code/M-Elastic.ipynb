{
 "cells": [
  {
   "cell_type": "code",
   "execution_count": null,
   "metadata": {},
   "outputs": [],
   "source": []
  },
  {
   "attachments": {},
   "cell_type": "markdown",
   "metadata": {},
   "source": [
    "# Imports"
   ]
  },
  {
   "cell_type": "code",
   "execution_count": 5,
   "metadata": {},
   "outputs": [],
   "source": [
    "import pandas as pd\n",
    "import numpy as np\n",
    "import matplotlib.pyplot as plt"
   ]
  },
  {
   "cell_type": "code",
   "execution_count": 6,
   "metadata": {},
   "outputs": [],
   "source": [
    "import py\n",
    "from Functions import splitAll\n",
    "from Functions import fit_model\n",
    "from Functions import fit_model_static"
   ]
  },
  {
   "attachments": {},
   "cell_type": "markdown",
   "metadata": {},
   "source": [
    "# Get data"
   ]
  },
  {
   "cell_type": "code",
   "execution_count": 3,
   "metadata": {},
   "outputs": [],
   "source": [
    "df = pd.read_csv('dataset_ML_govvies_important1.csv')"
   ]
  },
  {
   "cell_type": "code",
   "execution_count": 4,
   "metadata": {},
   "outputs": [],
   "source": [
    "X_train, Y_train, X_val, Y_val, X_test, Y_test = splitAll(df, non_X_cols = ['Date','Bond','Return_PD'], standardize= 'standard')"
   ]
  },
  {
   "attachments": {},
   "cell_type": "markdown",
   "metadata": {},
   "source": [
    "# Static"
   ]
  },
  {
   "cell_type": "code",
   "execution_count": 7,
   "metadata": {},
   "outputs": [
    {
     "name": "stdout",
     "output_type": "stream",
     "text": [
      "-0.04323603232298945\n"
     ]
    }
   ],
   "source": [
    "param_grid = {\n",
    "    'alpha' : [pow(10,-2.75),pow(10,-3), pow(10,-3.25), pow(10,-3.329), pow(10,-3.5), pow(10,-3.75)],\n",
    "    'l1_ratio' : [0.45, 0.5, 0.55],\n",
    "}\n",
    "\n",
    "Y_pred = fit_model_static(X_train, Y_train, X_val, Y_val, X_test, Y_test, 'Elastic', param_grid)"
   ]
  },
  {
   "attachments": {},
   "cell_type": "markdown",
   "metadata": {},
   "source": [
    "# Dynamic, annual retraining, no hypertuning"
   ]
  },
  {
   "cell_type": "code",
   "execution_count": 9,
   "metadata": {},
   "outputs": [
    {
     "name": "stdout",
     "output_type": "stream",
     "text": [
      "Starting model fitting...\n",
      "Dynamic method\n",
      "Hyperparameter tuning once\n",
      "Starting predictions...\n",
      "Percentage of run time:  6.22 %\n",
      "Temp R2 score:  -0.02384903428254992\n",
      "Percentage of run time:  12.44 %\n",
      "Temp R2 score:  -0.026606481311008068\n",
      "Percentage of run time:  18.65 %\n",
      "Temp R2 score:  0.0060009901104112195\n",
      "Percentage of run time:  24.87 %\n",
      "Temp R2 score:  -0.012424899446429105\n",
      "Percentage of run time:  31.09 %\n",
      "Temp R2 score:  -0.021155359613180824\n",
      "Percentage of run time:  37.31 %\n",
      "Temp R2 score:  -0.06196468459507232\n",
      "Percentage of run time:  43.52 %\n",
      "Temp R2 score:  -0.07122476686157797\n",
      "Percentage of run time:  49.74 %\n",
      "Temp R2 score:  -0.0576531996093288\n",
      "Percentage of run time:  55.96 %\n",
      "Temp R2 score:  -0.08160014136896554\n",
      "Percentage of run time:  62.18 %\n",
      "Temp R2 score:  -0.08396610070686905\n",
      "Percentage of run time:  68.39 %\n",
      "Temp R2 score:  -0.08369009556263207\n",
      "Percentage of run time:  74.61 %\n",
      "Temp R2 score:  -0.0739392841170563\n",
      "Percentage of run time:  80.83 %\n",
      "Temp R2 score:  -0.08180908644765106\n",
      "Percentage of run time:  87.05 %\n",
      "Temp R2 score:  -0.09619386570036292\n",
      "Percentage of run time:  93.26 %\n",
      "Temp R2 score:  -0.08584761255394735\n",
      "Percentage of run time:  99.48 %\n",
      "Temp R2 score:  -0.06008803745451097\n",
      "Traditional R2 score:  -0.059688840466711524\n",
      "Gu Kelly R2 score: -0.03620093280617209\n"
     ]
    }
   ],
   "source": [
    "Y_pred = fit_model(X_train, Y_train, X_val, Y_val, X_test, Y_test, 'Elastic', param_grid, retain_month = 12, hypertuneOnce = True)"
   ]
  },
  {
   "attachments": {},
   "cell_type": "markdown",
   "metadata": {},
   "source": [
    "# Dynamic, monthly retraining, no hypertuning"
   ]
  },
  {
   "cell_type": "code",
   "execution_count": 10,
   "metadata": {},
   "outputs": [
    {
     "name": "stdout",
     "output_type": "stream",
     "text": [
      "Starting model fitting...\n",
      "Dynamic method\n",
      "Hyperparameter tuning once\n",
      "Starting predictions...\n",
      "Percentage of run time:  0.52 %\n",
      "Temp R2 score:  -0.49944312144579994\n",
      "Percentage of run time:  1.04 %\n",
      "Temp R2 score:  -0.467282843154986\n",
      "Percentage of run time:  1.55 %\n",
      "Temp R2 score:  -0.08837539531613192\n",
      "Percentage of run time:  2.07 %\n",
      "Temp R2 score:  -0.22192122621382748\n",
      "Percentage of run time:  2.59 %\n",
      "Temp R2 score:  -0.2425333840716135\n",
      "Percentage of run time:  3.11 %\n",
      "Temp R2 score:  -0.1649355335716174\n",
      "Percentage of run time:  3.63 %\n",
      "Temp R2 score:  -0.20318607205173977\n",
      "Percentage of run time:  4.15 %\n",
      "Temp R2 score:  -0.04942280089879336\n",
      "Percentage of run time:  4.66 %\n",
      "Temp R2 score:  -0.02740494582140318\n",
      "Percentage of run time:  5.18 %\n",
      "Temp R2 score:  -0.05135376433139238\n",
      "Percentage of run time:  5.7 %\n",
      "Temp R2 score:  -0.03923299205031161\n",
      "Percentage of run time:  6.22 %\n",
      "Temp R2 score:  -0.034587110579295866\n",
      "Percentage of run time:  6.74 %\n",
      "Temp R2 score:  -0.03211609871346255\n",
      "Percentage of run time:  7.25 %\n",
      "Temp R2 score:  -0.04284486629946871\n",
      "Percentage of run time:  7.77 %\n",
      "Temp R2 score:  -0.023472896035686697\n",
      "Percentage of run time:  8.29 %\n",
      "Temp R2 score:  -0.013916386262776026\n",
      "Percentage of run time:  8.81 %\n",
      "Temp R2 score:  -0.018327970922837666\n",
      "Percentage of run time:  9.33 %\n",
      "Temp R2 score:  -0.024652391505245008\n",
      "Percentage of run time:  9.84 %\n",
      "Temp R2 score:  -0.020696477234252386\n",
      "Percentage of run time:  10.36 %\n",
      "Temp R2 score:  -0.025047851101960283\n",
      "Percentage of run time:  10.88 %\n",
      "Temp R2 score:  -0.030316003039508432\n",
      "Percentage of run time:  11.4 %\n",
      "Temp R2 score:  -0.038681067805726554\n",
      "Percentage of run time:  11.92 %\n",
      "Temp R2 score:  -0.04061929627148486\n",
      "Percentage of run time:  12.44 %\n",
      "Temp R2 score:  -0.025617932591227577\n",
      "Percentage of run time:  12.95 %\n",
      "Temp R2 score:  -0.02623287653836348\n",
      "Percentage of run time:  13.47 %\n",
      "Temp R2 score:  -0.030716635930633007\n",
      "Percentage of run time:  13.99 %\n",
      "Temp R2 score:  -0.019848194133482933\n",
      "Percentage of run time:  14.51 %\n",
      "Temp R2 score:  -0.0155466423113777\n",
      "Percentage of run time:  15.03 %\n",
      "Temp R2 score:  -0.00995624207675716\n",
      "Percentage of run time:  15.54 %\n",
      "Temp R2 score:  -0.0056115803735175\n",
      "Percentage of run time:  16.06 %\n",
      "Temp R2 score:  -0.0036386223533264594\n",
      "Percentage of run time:  16.58 %\n",
      "Temp R2 score:  -0.00986943015552888\n",
      "Percentage of run time:  17.1 %\n",
      "Temp R2 score:  -0.0032246763123791045\n",
      "Percentage of run time:  17.62 %\n",
      "Temp R2 score:  -0.0028113123077149194\n",
      "Percentage of run time:  18.13 %\n",
      "Temp R2 score:  -0.0023718937738166357\n",
      "Percentage of run time:  18.65 %\n",
      "Temp R2 score:  0.00010612834267631488\n",
      "Percentage of run time:  19.17 %\n",
      "Temp R2 score:  0.008083050539088088\n",
      "Percentage of run time:  19.69 %\n",
      "Temp R2 score:  0.006620733874059592\n",
      "Percentage of run time:  20.21 %\n",
      "Temp R2 score:  0.006149646161857536\n",
      "Percentage of run time:  20.73 %\n",
      "Temp R2 score:  0.0017701071833563509\n",
      "Percentage of run time:  21.24 %\n",
      "Temp R2 score:  -0.0032632624996442594\n",
      "Percentage of run time:  21.76 %\n",
      "Temp R2 score:  -0.0026571354396400793\n",
      "Percentage of run time:  22.28 %\n",
      "Temp R2 score:  -0.01246888844516203\n",
      "Percentage of run time:  22.8 %\n",
      "Temp R2 score:  -0.0011292520507599768\n",
      "Percentage of run time:  23.32 %\n",
      "Temp R2 score:  -0.010368914401384322\n",
      "Percentage of run time:  23.83 %\n",
      "Temp R2 score:  -0.013766581494303987\n",
      "Percentage of run time:  24.35 %\n",
      "Temp R2 score:  -0.010521524282574912\n",
      "Percentage of run time:  24.87 %\n",
      "Temp R2 score:  -0.016223651138342676\n",
      "Percentage of run time:  25.39 %\n",
      "Temp R2 score:  -0.02837367045216288\n",
      "Percentage of run time:  25.91 %\n",
      "Temp R2 score:  -0.03617826147191683\n",
      "Percentage of run time:  26.42 %\n",
      "Temp R2 score:  -0.03542772196053656\n",
      "Percentage of run time:  26.94 %\n",
      "Temp R2 score:  -0.051108754680224466\n",
      "Percentage of run time:  27.46 %\n",
      "Temp R2 score:  -0.044839784929185944\n",
      "Percentage of run time:  27.98 %\n",
      "Temp R2 score:  -0.0397468526059519\n",
      "Percentage of run time:  28.5 %\n",
      "Temp R2 score:  -0.03280377751133501\n",
      "Percentage of run time:  29.02 %\n",
      "Temp R2 score:  -0.025721789362239456\n",
      "Percentage of run time:  29.53 %\n",
      "Temp R2 score:  -0.020140563609280404\n",
      "Percentage of run time:  30.05 %\n",
      "Temp R2 score:  -0.01903883094273673\n",
      "Percentage of run time:  30.57 %\n",
      "Temp R2 score:  -0.018354981822727545\n",
      "Percentage of run time:  31.09 %\n",
      "Temp R2 score:  -0.023675038440097662\n",
      "Percentage of run time:  31.61 %\n",
      "Temp R2 score:  -0.03222052455467539\n",
      "Percentage of run time:  32.12 %\n",
      "Temp R2 score:  -0.03337284152201425\n",
      "Percentage of run time:  32.64 %\n",
      "Temp R2 score:  -0.044505621623507574\n",
      "Percentage of run time:  33.16 %\n",
      "Temp R2 score:  -0.05474071402731617\n",
      "Percentage of run time:  33.68 %\n",
      "Temp R2 score:  -0.06178704967579529\n",
      "Percentage of run time:  34.2 %\n",
      "Temp R2 score:  -0.05727351972823169\n",
      "Percentage of run time:  34.72 %\n",
      "Temp R2 score:  -0.06126025994682083\n",
      "Percentage of run time:  35.23 %\n",
      "Temp R2 score:  -0.06713679933438055\n",
      "Percentage of run time:  35.75 %\n",
      "Temp R2 score:  -0.06696239176614016\n",
      "Percentage of run time:  36.27 %\n",
      "Temp R2 score:  -0.06159934293878688\n",
      "Percentage of run time:  36.79 %\n",
      "Temp R2 score:  -0.05794281497316556\n",
      "Percentage of run time:  37.31 %\n",
      "Temp R2 score:  -0.06404762001776088\n",
      "Percentage of run time:  37.82 %\n",
      "Temp R2 score:  -0.07683284484165465\n",
      "Percentage of run time:  38.34 %\n",
      "Temp R2 score:  -0.07048246893660437\n",
      "Percentage of run time:  38.86 %\n",
      "Temp R2 score:  -0.07468230038517665\n",
      "Percentage of run time:  39.38 %\n",
      "Temp R2 score:  -0.07407156049369723\n",
      "Percentage of run time:  39.9 %\n",
      "Temp R2 score:  -0.07352969982357149\n",
      "Percentage of run time:  40.41 %\n",
      "Temp R2 score:  -0.07060173964737038\n",
      "Percentage of run time:  40.93 %\n",
      "Temp R2 score:  -0.07204822725240856\n",
      "Percentage of run time:  41.45 %\n",
      "Temp R2 score:  -0.07019294951659538\n",
      "Percentage of run time:  41.97 %\n",
      "Temp R2 score:  -0.061104863856618064\n",
      "Percentage of run time:  42.49 %\n",
      "Temp R2 score:  -0.06641484569911915\n",
      "Percentage of run time:  43.01 %\n",
      "Temp R2 score:  -0.0692471306991489\n",
      "Percentage of run time:  43.52 %\n",
      "Temp R2 score:  -0.07299577090770581\n",
      "Percentage of run time:  44.04 %\n",
      "Temp R2 score:  -0.06144770582030312\n",
      "Percentage of run time:  44.56 %\n",
      "Temp R2 score:  -0.05238007156043656\n",
      "Percentage of run time:  45.08 %\n",
      "Temp R2 score:  -0.054427014004153396\n",
      "Percentage of run time:  45.6 %\n",
      "Temp R2 score:  -0.04947105357187542\n",
      "Percentage of run time:  46.11 %\n",
      "Temp R2 score:  -0.052512589236911156\n",
      "Percentage of run time:  46.63 %\n",
      "Temp R2 score:  -0.05527818091279357\n",
      "Percentage of run time:  47.15 %\n",
      "Temp R2 score:  -0.05436493305505441\n",
      "Percentage of run time:  47.67 %\n",
      "Temp R2 score:  -0.04904647530918238\n",
      "Percentage of run time:  48.19 %\n",
      "Temp R2 score:  -0.056574217457167064\n",
      "Percentage of run time:  48.7 %\n",
      "Temp R2 score:  -0.057251929878916474\n",
      "Percentage of run time:  49.22 %\n",
      "Temp R2 score:  -0.05643466462184765\n",
      "Percentage of run time:  49.74 %\n",
      "Temp R2 score:  -0.05898850725028515\n",
      "Percentage of run time:  50.26 %\n",
      "Temp R2 score:  -0.06305241324238597\n",
      "Percentage of run time:  50.78 %\n",
      "Temp R2 score:  -0.06363719293493286\n",
      "Percentage of run time:  51.3 %\n",
      "Temp R2 score:  -0.06484718607034035\n",
      "Percentage of run time:  51.81 %\n",
      "Temp R2 score:  -0.07023170107519539\n",
      "Percentage of run time:  52.33 %\n",
      "Temp R2 score:  -0.06819082416221955\n",
      "Percentage of run time:  52.85 %\n",
      "Temp R2 score:  -0.07293694755380531\n",
      "Percentage of run time:  53.37 %\n",
      "Temp R2 score:  -0.07736116697915052\n",
      "Percentage of run time:  53.89 %\n",
      "Temp R2 score:  -0.08036774549270187\n",
      "Percentage of run time:  54.4 %\n",
      "Temp R2 score:  -0.08884287304225236\n",
      "Percentage of run time:  54.92 %\n",
      "Temp R2 score:  -0.08453317316185127\n",
      "Percentage of run time:  55.44 %\n",
      "Temp R2 score:  -0.08783659017971246\n",
      "Percentage of run time:  55.96 %\n",
      "Temp R2 score:  -0.08251723928568411\n",
      "Percentage of run time:  56.48 %\n",
      "Temp R2 score:  -0.08230537044563846\n",
      "Percentage of run time:  56.99 %\n",
      "Temp R2 score:  -0.07728011628647335\n",
      "Percentage of run time:  57.51 %\n",
      "Temp R2 score:  -0.08170342003706987\n",
      "Percentage of run time:  58.03 %\n",
      "Temp R2 score:  -0.08214577931632738\n",
      "Percentage of run time:  58.55 %\n",
      "Temp R2 score:  -0.08390179206404813\n",
      "Percentage of run time:  59.07 %\n",
      "Temp R2 score:  -0.08300633601522955\n",
      "Percentage of run time:  59.59 %\n",
      "Temp R2 score:  -0.0818763480328697\n",
      "Percentage of run time:  60.1 %\n",
      "Temp R2 score:  -0.08027751821160511\n",
      "Percentage of run time:  60.62 %\n",
      "Temp R2 score:  -0.08636886695494317\n",
      "Percentage of run time:  61.14 %\n",
      "Temp R2 score:  -0.08938546475727094\n",
      "Percentage of run time:  61.66 %\n",
      "Temp R2 score:  -0.08780556083033098\n",
      "Percentage of run time:  62.18 %\n",
      "Temp R2 score:  -0.08542360370107849\n",
      "Percentage of run time:  62.69 %\n",
      "Temp R2 score:  -0.08787758457580508\n",
      "Percentage of run time:  63.21 %\n",
      "Temp R2 score:  -0.09485700282100695\n",
      "Percentage of run time:  63.73 %\n",
      "Temp R2 score:  -0.09597160175872221\n",
      "Percentage of run time:  64.25 %\n",
      "Temp R2 score:  -0.09508655901151264\n",
      "Percentage of run time:  64.77 %\n",
      "Temp R2 score:  -0.09519500942267745\n",
      "Percentage of run time:  65.28 %\n",
      "Temp R2 score:  -0.08819282559010233\n",
      "Percentage of run time:  65.8 %\n",
      "Temp R2 score:  -0.08099380612365747\n",
      "Percentage of run time:  66.32 %\n",
      "Temp R2 score:  -0.08116182937174643\n",
      "Percentage of run time:  66.84 %\n",
      "Temp R2 score:  -0.0791853023211877\n",
      "Percentage of run time:  67.36 %\n",
      "Temp R2 score:  -0.08344985392465976\n",
      "Percentage of run time:  67.88 %\n",
      "Temp R2 score:  -0.08227242221940978\n",
      "Percentage of run time:  68.39 %\n",
      "Temp R2 score:  -0.08473203612684643\n",
      "Percentage of run time:  68.91 %\n",
      "Temp R2 score:  -0.08676022731231336\n",
      "Percentage of run time:  69.43 %\n",
      "Temp R2 score:  -0.07976842527776218\n",
      "Percentage of run time:  69.95 %\n",
      "Temp R2 score:  -0.07940759681021548\n",
      "Percentage of run time:  70.47 %\n",
      "Temp R2 score:  -0.08264851169138465\n",
      "Percentage of run time:  70.98 %\n",
      "Temp R2 score:  -0.07789527318108491\n",
      "Percentage of run time:  71.5 %\n",
      "Temp R2 score:  -0.07986256921114987\n",
      "Percentage of run time:  72.02 %\n",
      "Temp R2 score:  -0.08021803381016923\n",
      "Percentage of run time:  72.54 %\n",
      "Temp R2 score:  -0.07846999790601528\n",
      "Percentage of run time:  73.06 %\n",
      "Temp R2 score:  -0.07323052025777899\n",
      "Percentage of run time:  73.58 %\n",
      "Temp R2 score:  -0.07417845774041032\n",
      "Percentage of run time:  74.09 %\n",
      "Temp R2 score:  -0.07650991768155313\n",
      "Percentage of run time:  74.61 %\n",
      "Temp R2 score:  -0.07471789189547962\n",
      "Percentage of run time:  75.13 %\n",
      "Temp R2 score:  -0.07759782324580411\n",
      "Percentage of run time:  75.65 %\n",
      "Temp R2 score:  -0.07738364870662062\n",
      "Percentage of run time:  76.17 %\n",
      "Temp R2 score:  -0.07541313159091301\n",
      "Percentage of run time:  76.68 %\n",
      "Temp R2 score:  -0.07698148903162827\n",
      "Percentage of run time:  77.2 %\n",
      "Temp R2 score:  -0.07366335143907499\n",
      "Percentage of run time:  77.72 %\n",
      "Temp R2 score:  -0.07456729401094653\n",
      "Percentage of run time:  78.24 %\n",
      "Temp R2 score:  -0.07623527407858433\n",
      "Percentage of run time:  78.76 %\n",
      "Temp R2 score:  -0.07866877531092209\n",
      "Percentage of run time:  79.27 %\n",
      "Temp R2 score:  -0.0796792980197869\n",
      "Percentage of run time:  79.79 %\n",
      "Temp R2 score:  -0.07916621551992709\n",
      "Percentage of run time:  80.31 %\n",
      "Temp R2 score:  -0.0831775172293654\n",
      "Percentage of run time:  80.83 %\n",
      "Temp R2 score:  -0.08215184786811203\n",
      "Percentage of run time:  81.35 %\n",
      "Temp R2 score:  -0.08688233060561301\n",
      "Percentage of run time:  81.87 %\n",
      "Temp R2 score:  -0.08889297985784195\n",
      "Percentage of run time:  82.38 %\n",
      "Temp R2 score:  -0.09074246336839686\n",
      "Percentage of run time:  82.9 %\n",
      "Temp R2 score:  -0.09630931205774673\n",
      "Percentage of run time:  83.42 %\n",
      "Temp R2 score:  -0.0930705364401816\n",
      "Percentage of run time:  83.94 %\n",
      "Temp R2 score:  -0.09002502615281593\n",
      "Percentage of run time:  84.46 %\n",
      "Temp R2 score:  -0.08860178635229787\n",
      "Percentage of run time:  84.97 %\n",
      "Temp R2 score:  -0.08475527739185651\n",
      "Percentage of run time:  85.49 %\n",
      "Temp R2 score:  -0.08965455303599112\n",
      "Percentage of run time:  86.01 %\n",
      "Temp R2 score:  -0.09396565104960564\n",
      "Percentage of run time:  86.53 %\n",
      "Temp R2 score:  -0.09519596659530505\n",
      "Percentage of run time:  87.05 %\n",
      "Temp R2 score:  -0.0962334976817878\n",
      "Percentage of run time:  87.56 %\n",
      "Temp R2 score:  -0.09556935614324358\n",
      "Percentage of run time:  88.08 %\n",
      "Temp R2 score:  -0.09567123344137629\n",
      "Percentage of run time:  88.6 %\n",
      "Temp R2 score:  -0.0960766070585728\n",
      "Percentage of run time:  89.12 %\n",
      "Temp R2 score:  -0.09401265473809661\n",
      "Percentage of run time:  89.64 %\n",
      "Temp R2 score:  -0.09543371057062155\n",
      "Percentage of run time:  90.16 %\n",
      "Temp R2 score:  -0.09555263162373073\n",
      "Percentage of run time:  90.67 %\n",
      "Temp R2 score:  -0.0949986381993464\n",
      "Percentage of run time:  91.19 %\n",
      "Temp R2 score:  -0.09535555048156774\n",
      "Percentage of run time:  91.71 %\n",
      "Temp R2 score:  -0.09408588055378297\n",
      "Percentage of run time:  92.23 %\n",
      "Temp R2 score:  -0.08536546609134565\n",
      "Percentage of run time:  92.75 %\n",
      "Temp R2 score:  -0.08543989453976986\n",
      "Percentage of run time:  93.26 %\n",
      "Temp R2 score:  -0.08590334795863663\n",
      "Percentage of run time:  93.78 %\n",
      "Temp R2 score:  -0.08676171588218917\n",
      "Percentage of run time:  94.3 %\n",
      "Temp R2 score:  -0.08749565332917375\n",
      "Percentage of run time:  94.82 %\n",
      "Temp R2 score:  -0.09111977980839803\n",
      "Percentage of run time:  95.34 %\n",
      "Temp R2 score:  -0.0903249687752985\n",
      "Percentage of run time:  95.85 %\n",
      "Temp R2 score:  -0.08603280764898824\n",
      "Percentage of run time:  96.37 %\n",
      "Temp R2 score:  -0.08085957453484727\n",
      "Percentage of run time:  96.89 %\n",
      "Temp R2 score:  -0.08415668569813528\n",
      "Percentage of run time:  97.41 %\n",
      "Temp R2 score:  -0.08273296995611679\n",
      "Percentage of run time:  97.93 %\n",
      "Temp R2 score:  -0.07760268982050667\n",
      "Percentage of run time:  98.45 %\n",
      "Temp R2 score:  -0.07595936265148029\n",
      "Percentage of run time:  98.96 %\n",
      "Temp R2 score:  -0.06601653629197979\n",
      "Percentage of run time:  99.48 %\n",
      "Temp R2 score:  -0.06079309869765326\n",
      "Percentage of run time:  100.0 %\n",
      "Temp R2 score:  -0.0603922760800053\n",
      "Traditional R2 score:  -0.0603922760800053\n",
      "Gu Kelly R2 score: -0.03688877683248526\n"
     ]
    }
   ],
   "source": [
    "Y_pred = fit_model(X_train, Y_train, X_val, Y_val, X_test, Y_test, 'Elastic', param_grid, retain_month = 1, hypertuneOnce = True)"
   ]
  },
  {
   "attachments": {},
   "cell_type": "markdown",
   "metadata": {},
   "source": [
    "# Dynamic, annual retraining, hypertuning"
   ]
  },
  {
   "cell_type": "code",
   "execution_count": 11,
   "metadata": {},
   "outputs": [
    {
     "name": "stdout",
     "output_type": "stream",
     "text": [
      "Starting model fitting...\n",
      "Dynamic method\n",
      "Rehyperparameter tuning\n",
      "Starting predictions...\n",
      "Percentage of run time:  6.22 %\n",
      "Temp R2 score:  -0.02384903428254992\n",
      "Percentage of run time:  12.44 %\n",
      "Temp R2 score:  -0.04859358831142857\n",
      "Percentage of run time:  18.65 %\n",
      "Temp R2 score:  0.017324364634564993\n",
      "Percentage of run time:  24.87 %\n",
      "Temp R2 score:  -0.005722156095458564\n",
      "Percentage of run time:  31.09 %\n",
      "Temp R2 score:  -0.00790010158179233\n",
      "Percentage of run time:  37.31 %\n",
      "Temp R2 score:  -0.041139189466595116\n",
      "Percentage of run time:  43.52 %\n",
      "Temp R2 score:  -0.05639469026347599\n",
      "Percentage of run time:  49.74 %\n",
      "Temp R2 score:  -0.0442804060783033\n"
     ]
    },
    {
     "name": "stderr",
     "output_type": "stream",
     "text": [
      "c:\\Users\\sunny\\Downloads\\Master QF\\3 Seminar Case\\Robeco\\Code\\Functions.py:309: RuntimeWarning: invalid value encountered in divide\n",
      "  VIM_list = R2_changes/ np.sum(R2_changes)\n"
     ]
    },
    {
     "name": "stdout",
     "output_type": "stream",
     "text": [
      "Percentage of run time:  55.96 %\n",
      "Temp R2 score:  -0.06933814891647683\n"
     ]
    },
    {
     "name": "stderr",
     "output_type": "stream",
     "text": [
      "c:\\Users\\sunny\\Downloads\\Master QF\\3 Seminar Case\\Robeco\\Code\\Functions.py:309: RuntimeWarning: invalid value encountered in divide\n",
      "  VIM_list = R2_changes/ np.sum(R2_changes)\n"
     ]
    },
    {
     "name": "stdout",
     "output_type": "stream",
     "text": [
      "Percentage of run time:  62.18 %\n",
      "Temp R2 score:  -0.06737198692687718\n"
     ]
    },
    {
     "name": "stderr",
     "output_type": "stream",
     "text": [
      "c:\\Users\\sunny\\Downloads\\Master QF\\3 Seminar Case\\Robeco\\Code\\Functions.py:309: RuntimeWarning: invalid value encountered in divide\n",
      "  VIM_list = R2_changes/ np.sum(R2_changes)\n"
     ]
    },
    {
     "name": "stdout",
     "output_type": "stream",
     "text": [
      "Percentage of run time:  68.39 %\n",
      "Temp R2 score:  -0.06225347143907989\n"
     ]
    },
    {
     "name": "stderr",
     "output_type": "stream",
     "text": [
      "c:\\Users\\sunny\\Downloads\\Master QF\\3 Seminar Case\\Robeco\\Code\\Functions.py:309: RuntimeWarning: invalid value encountered in divide\n",
      "  VIM_list = R2_changes/ np.sum(R2_changes)\n"
     ]
    },
    {
     "name": "stdout",
     "output_type": "stream",
     "text": [
      "Percentage of run time:  74.61 %\n",
      "Temp R2 score:  -0.05239876017643463\n"
     ]
    },
    {
     "name": "stderr",
     "output_type": "stream",
     "text": [
      "c:\\Users\\sunny\\Downloads\\Master QF\\3 Seminar Case\\Robeco\\Code\\Functions.py:309: RuntimeWarning: invalid value encountered in divide\n",
      "  VIM_list = R2_changes/ np.sum(R2_changes)\n"
     ]
    },
    {
     "name": "stdout",
     "output_type": "stream",
     "text": [
      "Percentage of run time:  80.83 %\n",
      "Temp R2 score:  -0.05466532769311394\n"
     ]
    },
    {
     "name": "stderr",
     "output_type": "stream",
     "text": [
      "c:\\Users\\sunny\\Downloads\\Master QF\\3 Seminar Case\\Robeco\\Code\\Functions.py:309: RuntimeWarning: invalid value encountered in divide\n",
      "  VIM_list = R2_changes/ np.sum(R2_changes)\n"
     ]
    },
    {
     "name": "stdout",
     "output_type": "stream",
     "text": [
      "Percentage of run time:  87.05 %\n",
      "Temp R2 score:  -0.05832017492603514\n"
     ]
    },
    {
     "name": "stderr",
     "output_type": "stream",
     "text": [
      "c:\\Users\\sunny\\Downloads\\Master QF\\3 Seminar Case\\Robeco\\Code\\Functions.py:309: RuntimeWarning: invalid value encountered in divide\n",
      "  VIM_list = R2_changes/ np.sum(R2_changes)\n"
     ]
    },
    {
     "name": "stdout",
     "output_type": "stream",
     "text": [
      "Percentage of run time:  93.26 %\n",
      "Temp R2 score:  -0.050231376440484476\n",
      "Percentage of run time:  99.48 %\n",
      "Temp R2 score:  -0.03319537583100529\n",
      "Traditional R2 score:  -0.03292150928439597\n",
      "Gu Kelly R2 score: -0.0100268971075117\n"
     ]
    },
    {
     "name": "stderr",
     "output_type": "stream",
     "text": [
      "c:\\Users\\sunny\\Downloads\\Master QF\\3 Seminar Case\\Robeco\\Code\\Functions.py:309: RuntimeWarning: invalid value encountered in divide\n",
      "  VIM_list = R2_changes/ np.sum(R2_changes)\n"
     ]
    }
   ],
   "source": [
    "Y_pred = fit_model(X_train, Y_train, X_val, Y_val, X_test, Y_test, 'Elastic', param_grid, retain_month = 12, hypertuneOnce = False)"
   ]
  },
  {
   "attachments": {},
   "cell_type": "markdown",
   "metadata": {},
   "source": [
    "# Dynamic, monthly retraining, hypertuning"
   ]
  },
  {
   "cell_type": "code",
   "execution_count": 12,
   "metadata": {},
   "outputs": [
    {
     "name": "stdout",
     "output_type": "stream",
     "text": [
      "Starting model fitting...\n",
      "Dynamic method\n",
      "Rehyperparameter tuning\n",
      "Starting predictions...\n",
      "Percentage of run time:  0.52 %\n",
      "Temp R2 score:  -0.49944312144579994\n",
      "Percentage of run time:  1.04 %\n",
      "Temp R2 score:  -0.8107777623104047\n",
      "Percentage of run time:  1.55 %\n",
      "Temp R2 score:  -0.09487981225418318\n",
      "Percentage of run time:  2.07 %\n",
      "Temp R2 score:  -0.18609696891412342\n",
      "Percentage of run time:  2.59 %\n",
      "Temp R2 score:  -0.1991956465814979\n",
      "Percentage of run time:  3.11 %\n",
      "Temp R2 score:  -0.12664662823194672\n",
      "Percentage of run time:  3.63 %\n",
      "Temp R2 score:  -0.17509361446495997\n",
      "Percentage of run time:  4.15 %\n",
      "Temp R2 score:  -0.01842929303577656\n",
      "Percentage of run time:  4.66 %\n",
      "Temp R2 score:  0.020204827810138992\n",
      "Percentage of run time:  5.18 %\n",
      "Temp R2 score:  -0.053434222968933076\n",
      "Percentage of run time:  5.7 %\n",
      "Temp R2 score:  -0.03228600390816294\n",
      "Percentage of run time:  6.22 %\n",
      "Temp R2 score:  -0.02474189772185942\n",
      "Percentage of run time:  6.74 %\n",
      "Temp R2 score:  0.005340948080843733\n",
      "Percentage of run time:  7.25 %\n",
      "Temp R2 score:  0.012552909828839276\n",
      "Percentage of run time:  7.77 %\n",
      "Temp R2 score:  -0.004606782741990889\n",
      "Percentage of run time:  8.29 %\n",
      "Temp R2 score:  -0.019255891703126693\n",
      "Percentage of run time:  8.81 %\n",
      "Temp R2 score:  -0.0230464601502538\n",
      "Percentage of run time:  9.33 %\n",
      "Temp R2 score:  -0.029179632535211164\n",
      "Percentage of run time:  9.84 %\n",
      "Temp R2 score:  -0.0452919835622434\n",
      "Percentage of run time:  10.36 %\n",
      "Temp R2 score:  -0.04660108634334925\n",
      "Percentage of run time:  10.88 %\n",
      "Temp R2 score:  -0.05249510317384676\n",
      "Percentage of run time:  11.4 %\n",
      "Temp R2 score:  -0.05734926772863336\n"
     ]
    },
    {
     "name": "stderr",
     "output_type": "stream",
     "text": [
      "c:\\Users\\sunny\\Downloads\\Master QF\\3 Seminar Case\\Robeco\\Code\\Functions.py:309: RuntimeWarning: invalid value encountered in divide\n",
      "  VIM_list = R2_changes/ np.sum(R2_changes)\n"
     ]
    },
    {
     "name": "stdout",
     "output_type": "stream",
     "text": [
      "Percentage of run time:  11.92 %\n",
      "Temp R2 score:  -0.059285215726323726\n",
      "Percentage of run time:  12.44 %\n",
      "Temp R2 score:  -0.04733278752744319\n",
      "Percentage of run time:  12.95 %\n",
      "Temp R2 score:  -0.044405177943436014\n",
      "Percentage of run time:  13.47 %\n",
      "Temp R2 score:  -0.04519832017808412\n",
      "Percentage of run time:  13.99 %\n",
      "Temp R2 score:  -0.03598185808876431\n",
      "Percentage of run time:  14.51 %\n",
      "Temp R2 score:  -0.03150041395344627\n",
      "Percentage of run time:  15.03 %\n",
      "Temp R2 score:  -0.025262797759160183\n",
      "Percentage of run time:  15.54 %\n",
      "Temp R2 score:  -0.013330490826810149\n",
      "Percentage of run time:  16.06 %\n",
      "Temp R2 score:  0.01661738421670389\n",
      "Percentage of run time:  16.58 %\n",
      "Temp R2 score:  0.03704346437630346\n",
      "Percentage of run time:  17.1 %\n",
      "Temp R2 score:  0.018338507359774936\n",
      "Percentage of run time:  17.62 %\n",
      "Temp R2 score:  0.02005599384566159\n",
      "Percentage of run time:  18.13 %\n",
      "Temp R2 score:  0.026419194201322216\n",
      "Percentage of run time:  18.65 %\n",
      "Temp R2 score:  0.014179475071839698\n",
      "Percentage of run time:  19.17 %\n",
      "Temp R2 score:  0.017663658047243236\n",
      "Percentage of run time:  19.69 %\n",
      "Temp R2 score:  0.016085772117515496\n",
      "Percentage of run time:  20.21 %\n",
      "Temp R2 score:  0.01565403456665848\n",
      "Percentage of run time:  20.73 %\n",
      "Temp R2 score:  0.0106993093243416\n",
      "Percentage of run time:  21.24 %\n",
      "Temp R2 score:  0.004215651926343322\n",
      "Percentage of run time:  21.76 %\n",
      "Temp R2 score:  0.00477544041162381\n",
      "Percentage of run time:  22.28 %\n",
      "Temp R2 score:  -0.004906652878668094\n",
      "Percentage of run time:  22.8 %\n",
      "Temp R2 score:  0.00406536311107375\n",
      "Percentage of run time:  23.32 %\n",
      "Temp R2 score:  -0.004016163349104929\n",
      "Percentage of run time:  23.83 %\n",
      "Temp R2 score:  -0.006548512876968449\n",
      "Percentage of run time:  24.35 %\n",
      "Temp R2 score:  -0.004155067256426337\n",
      "Percentage of run time:  24.87 %\n",
      "Temp R2 score:  -0.008733264716950906\n",
      "Percentage of run time:  25.39 %\n",
      "Temp R2 score:  -0.01824514979508507\n",
      "Percentage of run time:  25.91 %\n",
      "Temp R2 score:  -0.02275162433870248\n",
      "Percentage of run time:  26.42 %\n",
      "Temp R2 score:  -0.021743058376661573\n",
      "Percentage of run time:  26.94 %\n",
      "Temp R2 score:  -0.032969550639413425\n",
      "Percentage of run time:  27.46 %\n",
      "Temp R2 score:  -0.0276059534634594\n",
      "Percentage of run time:  27.98 %\n",
      "Temp R2 score:  -0.023111714114744553\n",
      "Percentage of run time:  28.5 %\n",
      "Temp R2 score:  -0.01750594411065931\n",
      "Percentage of run time:  29.02 %\n",
      "Temp R2 score:  -0.011730265873387324\n",
      "Percentage of run time:  29.53 %\n",
      "Temp R2 score:  -0.0066647544008786586\n",
      "Percentage of run time:  30.05 %\n",
      "Temp R2 score:  -0.0055328647391215124\n",
      "Percentage of run time:  30.57 %\n",
      "Temp R2 score:  -0.004973029704160359\n",
      "Percentage of run time:  31.09 %\n",
      "Temp R2 score:  -0.009970006677885168\n",
      "Percentage of run time:  31.61 %\n",
      "Temp R2 score:  -0.01813716734982629\n",
      "Percentage of run time:  32.12 %\n",
      "Temp R2 score:  -0.01916492468206532\n",
      "Percentage of run time:  32.64 %\n",
      "Temp R2 score:  -0.02781562494964529\n",
      "Percentage of run time:  33.16 %\n",
      "Temp R2 score:  -0.03543907876887653\n",
      "Percentage of run time:  33.68 %\n",
      "Temp R2 score:  -0.03916182923846856\n",
      "Percentage of run time:  34.2 %\n",
      "Temp R2 score:  -0.03639198344508432\n",
      "Percentage of run time:  34.72 %\n",
      "Temp R2 score:  -0.039160938126442835\n",
      "Percentage of run time:  35.23 %\n",
      "Temp R2 score:  -0.042209907805287994\n",
      "Percentage of run time:  35.75 %\n",
      "Temp R2 score:  -0.04168449600444424\n",
      "Percentage of run time:  36.27 %\n",
      "Temp R2 score:  -0.03686986929380254\n",
      "Percentage of run time:  36.79 %\n",
      "Temp R2 score:  -0.03323673687766715\n",
      "Percentage of run time:  37.31 %\n",
      "Temp R2 score:  -0.04144657464544621\n",
      "Percentage of run time:  37.82 %\n",
      "Temp R2 score:  -0.056599403192501896\n",
      "Percentage of run time:  38.34 %\n",
      "Temp R2 score:  -0.05055771830734934\n",
      "Percentage of run time:  38.86 %\n",
      "Temp R2 score:  -0.05469190239511912\n",
      "Percentage of run time:  39.38 %\n",
      "Temp R2 score:  -0.0542937182282095\n",
      "Percentage of run time:  39.9 %\n",
      "Temp R2 score:  -0.05397834076320396\n",
      "Percentage of run time:  40.41 %\n",
      "Temp R2 score:  -0.050970698889571064\n",
      "Percentage of run time:  40.93 %\n",
      "Temp R2 score:  -0.05250001832171147\n",
      "Percentage of run time:  41.45 %\n",
      "Temp R2 score:  -0.050800911851259345\n",
      "Percentage of run time:  41.97 %\n",
      "Temp R2 score:  -0.04115454653748274\n",
      "Percentage of run time:  42.49 %\n",
      "Temp R2 score:  -0.047733854639788076\n",
      "Percentage of run time:  43.01 %\n",
      "Temp R2 score:  -0.05085255322952609\n",
      "Percentage of run time:  43.52 %\n",
      "Temp R2 score:  -0.05546706855675021\n",
      "Percentage of run time:  44.04 %\n",
      "Temp R2 score:  -0.0436582442144835\n",
      "Percentage of run time:  44.56 %\n",
      "Temp R2 score:  -0.034679776761348924\n",
      "Percentage of run time:  45.08 %\n",
      "Temp R2 score:  -0.03715355175213664\n",
      "Percentage of run time:  45.6 %\n",
      "Temp R2 score:  -0.0326752967331454\n",
      "Percentage of run time:  46.11 %\n",
      "Temp R2 score:  -0.03590495771107949\n",
      "Percentage of run time:  46.63 %\n",
      "Temp R2 score:  -0.03878938734679971\n",
      "Percentage of run time:  47.15 %\n",
      "Temp R2 score:  -0.03809847724922699\n",
      "Percentage of run time:  47.67 %\n",
      "Temp R2 score:  -0.033435836758098025\n",
      "Percentage of run time:  48.19 %\n",
      "Temp R2 score:  -0.041014333894988875\n",
      "Percentage of run time:  48.7 %\n",
      "Temp R2 score:  -0.0416260810138529\n",
      "Percentage of run time:  49.22 %\n",
      "Temp R2 score:  -0.041037434574149545\n",
      "Percentage of run time:  49.74 %\n",
      "Temp R2 score:  -0.04327028383459819\n",
      "Percentage of run time:  50.26 %\n",
      "Temp R2 score:  -0.04685850233368449\n",
      "Percentage of run time:  50.78 %\n",
      "Temp R2 score:  -0.047389865925263175\n",
      "Percentage of run time:  51.3 %\n",
      "Temp R2 score:  -0.04859071726600628\n",
      "Percentage of run time:  51.81 %\n",
      "Temp R2 score:  -0.05405676858848718\n"
     ]
    },
    {
     "name": "stderr",
     "output_type": "stream",
     "text": [
      "c:\\Users\\sunny\\Downloads\\Master QF\\3 Seminar Case\\Robeco\\Code\\Functions.py:309: RuntimeWarning: invalid value encountered in divide\n",
      "  VIM_list = R2_changes/ np.sum(R2_changes)\n",
      "c:\\Users\\sunny\\Downloads\\Master QF\\3 Seminar Case\\Robeco\\Code\\Functions.py:309: RuntimeWarning: invalid value encountered in divide\n",
      "  VIM_list = R2_changes/ np.sum(R2_changes)\n"
     ]
    },
    {
     "name": "stdout",
     "output_type": "stream",
     "text": [
      "Percentage of run time:  52.33 %\n",
      "Temp R2 score:  -0.052340533389720445\n",
      "Percentage of run time:  52.85 %\n",
      "Temp R2 score:  -0.05483587895333897\n"
     ]
    },
    {
     "name": "stderr",
     "output_type": "stream",
     "text": [
      "c:\\Users\\sunny\\Downloads\\Master QF\\3 Seminar Case\\Robeco\\Code\\Functions.py:309: RuntimeWarning: invalid value encountered in divide\n",
      "  VIM_list = R2_changes/ np.sum(R2_changes)\n",
      "c:\\Users\\sunny\\Downloads\\Master QF\\3 Seminar Case\\Robeco\\Code\\Functions.py:309: RuntimeWarning: invalid value encountered in divide\n",
      "  VIM_list = R2_changes/ np.sum(R2_changes)\n"
     ]
    },
    {
     "name": "stdout",
     "output_type": "stream",
     "text": [
      "Percentage of run time:  53.37 %\n",
      "Temp R2 score:  -0.05723065150552076\n",
      "Percentage of run time:  53.89 %\n",
      "Temp R2 score:  -0.05861827833333422\n"
     ]
    },
    {
     "name": "stderr",
     "output_type": "stream",
     "text": [
      "c:\\Users\\sunny\\Downloads\\Master QF\\3 Seminar Case\\Robeco\\Code\\Functions.py:309: RuntimeWarning: invalid value encountered in divide\n",
      "  VIM_list = R2_changes/ np.sum(R2_changes)\n",
      "c:\\Users\\sunny\\Downloads\\Master QF\\3 Seminar Case\\Robeco\\Code\\Functions.py:309: RuntimeWarning: invalid value encountered in divide\n",
      "  VIM_list = R2_changes/ np.sum(R2_changes)\n"
     ]
    },
    {
     "name": "stdout",
     "output_type": "stream",
     "text": [
      "Percentage of run time:  54.4 %\n",
      "Temp R2 score:  -0.06315675018064315\n",
      "Percentage of run time:  54.92 %\n",
      "Temp R2 score:  -0.06016760318558023\n"
     ]
    },
    {
     "name": "stderr",
     "output_type": "stream",
     "text": [
      "c:\\Users\\sunny\\Downloads\\Master QF\\3 Seminar Case\\Robeco\\Code\\Functions.py:309: RuntimeWarning: invalid value encountered in divide\n",
      "  VIM_list = R2_changes/ np.sum(R2_changes)\n",
      "c:\\Users\\sunny\\Downloads\\Master QF\\3 Seminar Case\\Robeco\\Code\\Functions.py:309: RuntimeWarning: invalid value encountered in divide\n",
      "  VIM_list = R2_changes/ np.sum(R2_changes)\n",
      "c:\\Users\\sunny\\Downloads\\Master QF\\3 Seminar Case\\Robeco\\Code\\Functions.py:309: RuntimeWarning: invalid value encountered in divide\n",
      "  VIM_list = R2_changes/ np.sum(R2_changes)\n"
     ]
    },
    {
     "name": "stdout",
     "output_type": "stream",
     "text": [
      "Percentage of run time:  55.44 %\n",
      "Temp R2 score:  -0.06139449608703296\n",
      "Percentage of run time:  55.96 %\n",
      "Temp R2 score:  -0.05783356344790658\n"
     ]
    },
    {
     "name": "stderr",
     "output_type": "stream",
     "text": [
      "c:\\Users\\sunny\\Downloads\\Master QF\\3 Seminar Case\\Robeco\\Code\\Functions.py:309: RuntimeWarning: invalid value encountered in divide\n",
      "  VIM_list = R2_changes/ np.sum(R2_changes)\n",
      "c:\\Users\\sunny\\Downloads\\Master QF\\3 Seminar Case\\Robeco\\Code\\Functions.py:309: RuntimeWarning: invalid value encountered in divide\n",
      "  VIM_list = R2_changes/ np.sum(R2_changes)\n"
     ]
    },
    {
     "name": "stdout",
     "output_type": "stream",
     "text": [
      "Percentage of run time:  56.48 %\n",
      "Temp R2 score:  -0.05716423866995801\n",
      "Percentage of run time:  56.99 %\n",
      "Temp R2 score:  -0.05398580948221032\n"
     ]
    },
    {
     "name": "stderr",
     "output_type": "stream",
     "text": [
      "c:\\Users\\sunny\\Downloads\\Master QF\\3 Seminar Case\\Robeco\\Code\\Functions.py:309: RuntimeWarning: invalid value encountered in divide\n",
      "  VIM_list = R2_changes/ np.sum(R2_changes)\n",
      "c:\\Users\\sunny\\Downloads\\Master QF\\3 Seminar Case\\Robeco\\Code\\Functions.py:309: RuntimeWarning: invalid value encountered in divide\n",
      "  VIM_list = R2_changes/ np.sum(R2_changes)\n"
     ]
    },
    {
     "name": "stdout",
     "output_type": "stream",
     "text": [
      "Percentage of run time:  57.51 %\n",
      "Temp R2 score:  -0.05613223531620726\n",
      "Percentage of run time:  58.03 %\n",
      "Temp R2 score:  -0.05600981321156695\n"
     ]
    },
    {
     "name": "stderr",
     "output_type": "stream",
     "text": [
      "c:\\Users\\sunny\\Downloads\\Master QF\\3 Seminar Case\\Robeco\\Code\\Functions.py:309: RuntimeWarning: invalid value encountered in divide\n",
      "  VIM_list = R2_changes/ np.sum(R2_changes)\n",
      "c:\\Users\\sunny\\Downloads\\Master QF\\3 Seminar Case\\Robeco\\Code\\Functions.py:309: RuntimeWarning: invalid value encountered in divide\n",
      "  VIM_list = R2_changes/ np.sum(R2_changes)\n"
     ]
    },
    {
     "name": "stdout",
     "output_type": "stream",
     "text": [
      "Percentage of run time:  58.55 %\n",
      "Temp R2 score:  -0.05688274020109496\n",
      "Percentage of run time:  59.07 %\n",
      "Temp R2 score:  -0.05600995152443966\n"
     ]
    },
    {
     "name": "stderr",
     "output_type": "stream",
     "text": [
      "c:\\Users\\sunny\\Downloads\\Master QF\\3 Seminar Case\\Robeco\\Code\\Functions.py:309: RuntimeWarning: invalid value encountered in divide\n",
      "  VIM_list = R2_changes/ np.sum(R2_changes)\n",
      "c:\\Users\\sunny\\Downloads\\Master QF\\3 Seminar Case\\Robeco\\Code\\Functions.py:309: RuntimeWarning: invalid value encountered in divide\n",
      "  VIM_list = R2_changes/ np.sum(R2_changes)\n"
     ]
    },
    {
     "name": "stdout",
     "output_type": "stream",
     "text": [
      "Percentage of run time:  59.59 %\n",
      "Temp R2 score:  -0.054744277237844585\n",
      "Percentage of run time:  60.1 %\n",
      "Temp R2 score:  -0.05363741859392612\n"
     ]
    },
    {
     "name": "stderr",
     "output_type": "stream",
     "text": [
      "c:\\Users\\sunny\\Downloads\\Master QF\\3 Seminar Case\\Robeco\\Code\\Functions.py:309: RuntimeWarning: invalid value encountered in divide\n",
      "  VIM_list = R2_changes/ np.sum(R2_changes)\n",
      "c:\\Users\\sunny\\Downloads\\Master QF\\3 Seminar Case\\Robeco\\Code\\Functions.py:309: RuntimeWarning: invalid value encountered in divide\n",
      "  VIM_list = R2_changes/ np.sum(R2_changes)\n"
     ]
    },
    {
     "name": "stdout",
     "output_type": "stream",
     "text": [
      "Percentage of run time:  60.62 %\n",
      "Temp R2 score:  -0.05742459630626917\n",
      "Percentage of run time:  61.14 %\n",
      "Temp R2 score:  -0.05941239968208745\n"
     ]
    },
    {
     "name": "stderr",
     "output_type": "stream",
     "text": [
      "c:\\Users\\sunny\\Downloads\\Master QF\\3 Seminar Case\\Robeco\\Code\\Functions.py:309: RuntimeWarning: invalid value encountered in divide\n",
      "  VIM_list = R2_changes/ np.sum(R2_changes)\n",
      "c:\\Users\\sunny\\Downloads\\Master QF\\3 Seminar Case\\Robeco\\Code\\Functions.py:309: RuntimeWarning: invalid value encountered in divide\n",
      "  VIM_list = R2_changes/ np.sum(R2_changes)\n"
     ]
    },
    {
     "name": "stdout",
     "output_type": "stream",
     "text": [
      "Percentage of run time:  61.66 %\n",
      "Temp R2 score:  -0.05810569051960668\n",
      "Percentage of run time:  62.18 %\n",
      "Temp R2 score:  -0.056379105313988376\n"
     ]
    },
    {
     "name": "stderr",
     "output_type": "stream",
     "text": [
      "c:\\Users\\sunny\\Downloads\\Master QF\\3 Seminar Case\\Robeco\\Code\\Functions.py:309: RuntimeWarning: invalid value encountered in divide\n",
      "  VIM_list = R2_changes/ np.sum(R2_changes)\n",
      "c:\\Users\\sunny\\Downloads\\Master QF\\3 Seminar Case\\Robeco\\Code\\Functions.py:309: RuntimeWarning: invalid value encountered in divide\n",
      "  VIM_list = R2_changes/ np.sum(R2_changes)\n"
     ]
    },
    {
     "name": "stdout",
     "output_type": "stream",
     "text": [
      "Percentage of run time:  62.69 %\n",
      "Temp R2 score:  -0.05765353174663179\n",
      "Percentage of run time:  63.21 %\n",
      "Temp R2 score:  -0.061641664941297636\n"
     ]
    },
    {
     "name": "stderr",
     "output_type": "stream",
     "text": [
      "c:\\Users\\sunny\\Downloads\\Master QF\\3 Seminar Case\\Robeco\\Code\\Functions.py:309: RuntimeWarning: invalid value encountered in divide\n",
      "  VIM_list = R2_changes/ np.sum(R2_changes)\n",
      "c:\\Users\\sunny\\Downloads\\Master QF\\3 Seminar Case\\Robeco\\Code\\Functions.py:309: RuntimeWarning: invalid value encountered in divide\n",
      "  VIM_list = R2_changes/ np.sum(R2_changes)\n"
     ]
    },
    {
     "name": "stdout",
     "output_type": "stream",
     "text": [
      "Percentage of run time:  63.73 %\n",
      "Temp R2 score:  -0.061954345522845955\n",
      "Percentage of run time:  64.25 %\n",
      "Temp R2 score:  -0.06100003183567271\n"
     ]
    },
    {
     "name": "stderr",
     "output_type": "stream",
     "text": [
      "c:\\Users\\sunny\\Downloads\\Master QF\\3 Seminar Case\\Robeco\\Code\\Functions.py:309: RuntimeWarning: invalid value encountered in divide\n",
      "  VIM_list = R2_changes/ np.sum(R2_changes)\n",
      "c:\\Users\\sunny\\Downloads\\Master QF\\3 Seminar Case\\Robeco\\Code\\Functions.py:309: RuntimeWarning: invalid value encountered in divide\n",
      "  VIM_list = R2_changes/ np.sum(R2_changes)\n"
     ]
    },
    {
     "name": "stdout",
     "output_type": "stream",
     "text": [
      "Percentage of run time:  64.77 %\n",
      "Temp R2 score:  -0.060544100376900944\n",
      "Percentage of run time:  65.28 %\n",
      "Temp R2 score:  -0.05643792077254184\n"
     ]
    },
    {
     "name": "stderr",
     "output_type": "stream",
     "text": [
      "c:\\Users\\sunny\\Downloads\\Master QF\\3 Seminar Case\\Robeco\\Code\\Functions.py:309: RuntimeWarning: invalid value encountered in divide\n",
      "  VIM_list = R2_changes/ np.sum(R2_changes)\n",
      "c:\\Users\\sunny\\Downloads\\Master QF\\3 Seminar Case\\Robeco\\Code\\Functions.py:309: RuntimeWarning: invalid value encountered in divide\n",
      "  VIM_list = R2_changes/ np.sum(R2_changes)\n"
     ]
    },
    {
     "name": "stdout",
     "output_type": "stream",
     "text": [
      "Percentage of run time:  65.8 %\n",
      "Temp R2 score:  -0.051878743941948136\n",
      "Percentage of run time:  66.32 %\n",
      "Temp R2 score:  -0.05152222698357467\n"
     ]
    },
    {
     "name": "stderr",
     "output_type": "stream",
     "text": [
      "c:\\Users\\sunny\\Downloads\\Master QF\\3 Seminar Case\\Robeco\\Code\\Functions.py:309: RuntimeWarning: invalid value encountered in divide\n",
      "  VIM_list = R2_changes/ np.sum(R2_changes)\n",
      "c:\\Users\\sunny\\Downloads\\Master QF\\3 Seminar Case\\Robeco\\Code\\Functions.py:309: RuntimeWarning: invalid value encountered in divide\n",
      "  VIM_list = R2_changes/ np.sum(R2_changes)\n"
     ]
    },
    {
     "name": "stdout",
     "output_type": "stream",
     "text": [
      "Percentage of run time:  66.84 %\n",
      "Temp R2 score:  -0.050290879083687345\n",
      "Percentage of run time:  67.36 %\n",
      "Temp R2 score:  -0.05192291027635165\n"
     ]
    },
    {
     "name": "stderr",
     "output_type": "stream",
     "text": [
      "c:\\Users\\sunny\\Downloads\\Master QF\\3 Seminar Case\\Robeco\\Code\\Functions.py:309: RuntimeWarning: invalid value encountered in divide\n",
      "  VIM_list = R2_changes/ np.sum(R2_changes)\n",
      "c:\\Users\\sunny\\Downloads\\Master QF\\3 Seminar Case\\Robeco\\Code\\Functions.py:309: RuntimeWarning: invalid value encountered in divide\n",
      "  VIM_list = R2_changes/ np.sum(R2_changes)\n"
     ]
    },
    {
     "name": "stdout",
     "output_type": "stream",
     "text": [
      "Percentage of run time:  67.88 %\n",
      "Temp R2 score:  -0.0510318538793193\n",
      "Percentage of run time:  68.39 %\n",
      "Temp R2 score:  -0.05188763568034749\n"
     ]
    },
    {
     "name": "stderr",
     "output_type": "stream",
     "text": [
      "c:\\Users\\sunny\\Downloads\\Master QF\\3 Seminar Case\\Robeco\\Code\\Functions.py:309: RuntimeWarning: invalid value encountered in divide\n",
      "  VIM_list = R2_changes/ np.sum(R2_changes)\n",
      "c:\\Users\\sunny\\Downloads\\Master QF\\3 Seminar Case\\Robeco\\Code\\Functions.py:309: RuntimeWarning: invalid value encountered in divide\n",
      "  VIM_list = R2_changes/ np.sum(R2_changes)\n"
     ]
    },
    {
     "name": "stdout",
     "output_type": "stream",
     "text": [
      "Percentage of run time:  68.91 %\n",
      "Temp R2 score:  -0.05255955791045075\n",
      "Percentage of run time:  69.43 %\n",
      "Temp R2 score:  -0.04864788075457116\n"
     ]
    },
    {
     "name": "stderr",
     "output_type": "stream",
     "text": [
      "c:\\Users\\sunny\\Downloads\\Master QF\\3 Seminar Case\\Robeco\\Code\\Functions.py:309: RuntimeWarning: invalid value encountered in divide\n",
      "  VIM_list = R2_changes/ np.sum(R2_changes)\n",
      "c:\\Users\\sunny\\Downloads\\Master QF\\3 Seminar Case\\Robeco\\Code\\Functions.py:309: RuntimeWarning: invalid value encountered in divide\n",
      "  VIM_list = R2_changes/ np.sum(R2_changes)\n"
     ]
    },
    {
     "name": "stdout",
     "output_type": "stream",
     "text": [
      "Percentage of run time:  69.95 %\n",
      "Temp R2 score:  -0.048038404009601576\n",
      "Percentage of run time:  70.47 %\n",
      "Temp R2 score:  -0.04930118716484255\n"
     ]
    },
    {
     "name": "stderr",
     "output_type": "stream",
     "text": [
      "c:\\Users\\sunny\\Downloads\\Master QF\\3 Seminar Case\\Robeco\\Code\\Functions.py:309: RuntimeWarning: invalid value encountered in divide\n",
      "  VIM_list = R2_changes/ np.sum(R2_changes)\n",
      "c:\\Users\\sunny\\Downloads\\Master QF\\3 Seminar Case\\Robeco\\Code\\Functions.py:309: RuntimeWarning: invalid value encountered in divide\n",
      "  VIM_list = R2_changes/ np.sum(R2_changes)\n"
     ]
    },
    {
     "name": "stdout",
     "output_type": "stream",
     "text": [
      "Percentage of run time:  70.98 %\n",
      "Temp R2 score:  -0.04641148855598276\n",
      "Percentage of run time:  71.5 %\n",
      "Temp R2 score:  -0.04719239433499167\n"
     ]
    },
    {
     "name": "stderr",
     "output_type": "stream",
     "text": [
      "c:\\Users\\sunny\\Downloads\\Master QF\\3 Seminar Case\\Robeco\\Code\\Functions.py:309: RuntimeWarning: invalid value encountered in divide\n",
      "  VIM_list = R2_changes/ np.sum(R2_changes)\n",
      "c:\\Users\\sunny\\Downloads\\Master QF\\3 Seminar Case\\Robeco\\Code\\Functions.py:309: RuntimeWarning: invalid value encountered in divide\n",
      "  VIM_list = R2_changes/ np.sum(R2_changes)\n"
     ]
    },
    {
     "name": "stdout",
     "output_type": "stream",
     "text": [
      "Percentage of run time:  72.02 %\n",
      "Temp R2 score:  -0.04706581739271076\n",
      "Percentage of run time:  72.54 %\n",
      "Temp R2 score:  -0.04577875802804332\n"
     ]
    },
    {
     "name": "stderr",
     "output_type": "stream",
     "text": [
      "c:\\Users\\sunny\\Downloads\\Master QF\\3 Seminar Case\\Robeco\\Code\\Functions.py:309: RuntimeWarning: invalid value encountered in divide\n",
      "  VIM_list = R2_changes/ np.sum(R2_changes)\n",
      "c:\\Users\\sunny\\Downloads\\Master QF\\3 Seminar Case\\Robeco\\Code\\Functions.py:309: RuntimeWarning: invalid value encountered in divide\n",
      "  VIM_list = R2_changes/ np.sum(R2_changes)\n"
     ]
    },
    {
     "name": "stdout",
     "output_type": "stream",
     "text": [
      "Percentage of run time:  73.06 %\n",
      "Temp R2 score:  -0.04273667955233451\n",
      "Percentage of run time:  73.58 %\n",
      "Temp R2 score:  -0.042851841160617354\n"
     ]
    },
    {
     "name": "stderr",
     "output_type": "stream",
     "text": [
      "c:\\Users\\sunny\\Downloads\\Master QF\\3 Seminar Case\\Robeco\\Code\\Functions.py:309: RuntimeWarning: invalid value encountered in divide\n",
      "  VIM_list = R2_changes/ np.sum(R2_changes)\n",
      "c:\\Users\\sunny\\Downloads\\Master QF\\3 Seminar Case\\Robeco\\Code\\Functions.py:309: RuntimeWarning: invalid value encountered in divide\n",
      "  VIM_list = R2_changes/ np.sum(R2_changes)\n"
     ]
    },
    {
     "name": "stdout",
     "output_type": "stream",
     "text": [
      "Percentage of run time:  74.09 %\n",
      "Temp R2 score:  -0.0438345528842361\n",
      "Percentage of run time:  74.61 %\n",
      "Temp R2 score:  -0.042491973594171784\n"
     ]
    },
    {
     "name": "stderr",
     "output_type": "stream",
     "text": [
      "c:\\Users\\sunny\\Downloads\\Master QF\\3 Seminar Case\\Robeco\\Code\\Functions.py:309: RuntimeWarning: invalid value encountered in divide\n",
      "  VIM_list = R2_changes/ np.sum(R2_changes)\n",
      "c:\\Users\\sunny\\Downloads\\Master QF\\3 Seminar Case\\Robeco\\Code\\Functions.py:309: RuntimeWarning: invalid value encountered in divide\n",
      "  VIM_list = R2_changes/ np.sum(R2_changes)\n"
     ]
    },
    {
     "name": "stdout",
     "output_type": "stream",
     "text": [
      "Percentage of run time:  75.13 %\n",
      "Temp R2 score:  -0.043868018310429635\n",
      "Percentage of run time:  75.65 %\n",
      "Temp R2 score:  -0.0435291200042105\n"
     ]
    },
    {
     "name": "stderr",
     "output_type": "stream",
     "text": [
      "c:\\Users\\sunny\\Downloads\\Master QF\\3 Seminar Case\\Robeco\\Code\\Functions.py:309: RuntimeWarning: invalid value encountered in divide\n",
      "  VIM_list = R2_changes/ np.sum(R2_changes)\n",
      "c:\\Users\\sunny\\Downloads\\Master QF\\3 Seminar Case\\Robeco\\Code\\Functions.py:309: RuntimeWarning: invalid value encountered in divide\n",
      "  VIM_list = R2_changes/ np.sum(R2_changes)\n"
     ]
    },
    {
     "name": "stdout",
     "output_type": "stream",
     "text": [
      "Percentage of run time:  76.17 %\n",
      "Temp R2 score:  -0.042179161051013825\n",
      "Percentage of run time:  76.68 %\n",
      "Temp R2 score:  -0.042899763342522323\n"
     ]
    },
    {
     "name": "stderr",
     "output_type": "stream",
     "text": [
      "c:\\Users\\sunny\\Downloads\\Master QF\\3 Seminar Case\\Robeco\\Code\\Functions.py:309: RuntimeWarning: invalid value encountered in divide\n",
      "  VIM_list = R2_changes/ np.sum(R2_changes)\n"
     ]
    },
    {
     "name": "stdout",
     "output_type": "stream",
     "text": [
      "Percentage of run time:  77.2 %\n",
      "Temp R2 score:  -0.04084606712462713\n"
     ]
    },
    {
     "name": "stderr",
     "output_type": "stream",
     "text": [
      "c:\\Users\\sunny\\Downloads\\Master QF\\3 Seminar Case\\Robeco\\Code\\Functions.py:309: RuntimeWarning: invalid value encountered in divide\n",
      "  VIM_list = R2_changes/ np.sum(R2_changes)\n"
     ]
    },
    {
     "name": "stdout",
     "output_type": "stream",
     "text": [
      "Percentage of run time:  77.72 %\n",
      "Temp R2 score:  -0.040981544813102344\n"
     ]
    },
    {
     "name": "stderr",
     "output_type": "stream",
     "text": [
      "c:\\Users\\sunny\\Downloads\\Master QF\\3 Seminar Case\\Robeco\\Code\\Functions.py:309: RuntimeWarning: invalid value encountered in divide\n",
      "  VIM_list = R2_changes/ np.sum(R2_changes)\n",
      "c:\\Users\\sunny\\Downloads\\Master QF\\3 Seminar Case\\Robeco\\Code\\Functions.py:309: RuntimeWarning: invalid value encountered in divide\n",
      "  VIM_list = R2_changes/ np.sum(R2_changes)\n"
     ]
    },
    {
     "name": "stdout",
     "output_type": "stream",
     "text": [
      "Percentage of run time:  78.24 %\n",
      "Temp R2 score:  -0.041878191258710507\n",
      "Percentage of run time:  78.76 %\n",
      "Temp R2 score:  -0.043412423892719154\n"
     ]
    },
    {
     "name": "stderr",
     "output_type": "stream",
     "text": [
      "c:\\Users\\sunny\\Downloads\\Master QF\\3 Seminar Case\\Robeco\\Code\\Functions.py:309: RuntimeWarning: invalid value encountered in divide\n",
      "  VIM_list = R2_changes/ np.sum(R2_changes)\n"
     ]
    },
    {
     "name": "stdout",
     "output_type": "stream",
     "text": [
      "Percentage of run time:  79.27 %\n",
      "Temp R2 score:  -0.04395943098176103\n"
     ]
    },
    {
     "name": "stderr",
     "output_type": "stream",
     "text": [
      "c:\\Users\\sunny\\Downloads\\Master QF\\3 Seminar Case\\Robeco\\Code\\Functions.py:309: RuntimeWarning: invalid value encountered in divide\n",
      "  VIM_list = R2_changes/ np.sum(R2_changes)\n"
     ]
    },
    {
     "name": "stdout",
     "output_type": "stream",
     "text": [
      "Percentage of run time:  79.79 %\n",
      "Temp R2 score:  -0.043479283963736126\n"
     ]
    },
    {
     "name": "stderr",
     "output_type": "stream",
     "text": [
      "c:\\Users\\sunny\\Downloads\\Master QF\\3 Seminar Case\\Robeco\\Code\\Functions.py:309: RuntimeWarning: invalid value encountered in divide\n",
      "  VIM_list = R2_changes/ np.sum(R2_changes)\n"
     ]
    },
    {
     "name": "stdout",
     "output_type": "stream",
     "text": [
      "Percentage of run time:  80.31 %\n",
      "Temp R2 score:  -0.04585751585044595\n"
     ]
    },
    {
     "name": "stderr",
     "output_type": "stream",
     "text": [
      "c:\\Users\\sunny\\Downloads\\Master QF\\3 Seminar Case\\Robeco\\Code\\Functions.py:309: RuntimeWarning: invalid value encountered in divide\n",
      "  VIM_list = R2_changes/ np.sum(R2_changes)\n"
     ]
    },
    {
     "name": "stdout",
     "output_type": "stream",
     "text": [
      "Percentage of run time:  80.83 %\n",
      "Temp R2 score:  -0.04503638605477378\n"
     ]
    },
    {
     "name": "stderr",
     "output_type": "stream",
     "text": [
      "c:\\Users\\sunny\\Downloads\\Master QF\\3 Seminar Case\\Robeco\\Code\\Functions.py:309: RuntimeWarning: invalid value encountered in divide\n",
      "  VIM_list = R2_changes/ np.sum(R2_changes)\n"
     ]
    },
    {
     "name": "stdout",
     "output_type": "stream",
     "text": [
      "Percentage of run time:  81.35 %\n",
      "Temp R2 score:  -0.047148861331354874\n"
     ]
    },
    {
     "name": "stderr",
     "output_type": "stream",
     "text": [
      "c:\\Users\\sunny\\Downloads\\Master QF\\3 Seminar Case\\Robeco\\Code\\Functions.py:309: RuntimeWarning: invalid value encountered in divide\n",
      "  VIM_list = R2_changes/ np.sum(R2_changes)\n"
     ]
    },
    {
     "name": "stdout",
     "output_type": "stream",
     "text": [
      "Percentage of run time:  81.87 %\n",
      "Temp R2 score:  -0.04787723086261364\n"
     ]
    },
    {
     "name": "stderr",
     "output_type": "stream",
     "text": [
      "c:\\Users\\sunny\\Downloads\\Master QF\\3 Seminar Case\\Robeco\\Code\\Functions.py:309: RuntimeWarning: invalid value encountered in divide\n",
      "  VIM_list = R2_changes/ np.sum(R2_changes)\n"
     ]
    },
    {
     "name": "stdout",
     "output_type": "stream",
     "text": [
      "Percentage of run time:  82.38 %\n",
      "Temp R2 score:  -0.048277686910794815\n"
     ]
    },
    {
     "name": "stderr",
     "output_type": "stream",
     "text": [
      "c:\\Users\\sunny\\Downloads\\Master QF\\3 Seminar Case\\Robeco\\Code\\Functions.py:309: RuntimeWarning: invalid value encountered in divide\n",
      "  VIM_list = R2_changes/ np.sum(R2_changes)\n"
     ]
    },
    {
     "name": "stdout",
     "output_type": "stream",
     "text": [
      "Percentage of run time:  82.9 %\n",
      "Temp R2 score:  -0.05064626188815935\n"
     ]
    },
    {
     "name": "stderr",
     "output_type": "stream",
     "text": [
      "c:\\Users\\sunny\\Downloads\\Master QF\\3 Seminar Case\\Robeco\\Code\\Functions.py:309: RuntimeWarning: invalid value encountered in divide\n",
      "  VIM_list = R2_changes/ np.sum(R2_changes)\n"
     ]
    },
    {
     "name": "stdout",
     "output_type": "stream",
     "text": [
      "Percentage of run time:  83.42 %\n",
      "Temp R2 score:  -0.04869366834210531\n"
     ]
    },
    {
     "name": "stderr",
     "output_type": "stream",
     "text": [
      "c:\\Users\\sunny\\Downloads\\Master QF\\3 Seminar Case\\Robeco\\Code\\Functions.py:309: RuntimeWarning: invalid value encountered in divide\n",
      "  VIM_list = R2_changes/ np.sum(R2_changes)\n"
     ]
    },
    {
     "name": "stdout",
     "output_type": "stream",
     "text": [
      "Percentage of run time:  83.94 %\n",
      "Temp R2 score:  -0.046980984914084756\n"
     ]
    },
    {
     "name": "stderr",
     "output_type": "stream",
     "text": [
      "c:\\Users\\sunny\\Downloads\\Master QF\\3 Seminar Case\\Robeco\\Code\\Functions.py:309: RuntimeWarning: invalid value encountered in divide\n",
      "  VIM_list = R2_changes/ np.sum(R2_changes)\n"
     ]
    },
    {
     "name": "stdout",
     "output_type": "stream",
     "text": [
      "Percentage of run time:  84.46 %\n",
      "Temp R2 score:  -0.045973814854701756\n"
     ]
    },
    {
     "name": "stderr",
     "output_type": "stream",
     "text": [
      "c:\\Users\\sunny\\Downloads\\Master QF\\3 Seminar Case\\Robeco\\Code\\Functions.py:309: RuntimeWarning: invalid value encountered in divide\n",
      "  VIM_list = R2_changes/ np.sum(R2_changes)\n"
     ]
    },
    {
     "name": "stdout",
     "output_type": "stream",
     "text": [
      "Percentage of run time:  84.97 %\n",
      "Temp R2 score:  -0.043792319747538055\n"
     ]
    },
    {
     "name": "stderr",
     "output_type": "stream",
     "text": [
      "c:\\Users\\sunny\\Downloads\\Master QF\\3 Seminar Case\\Robeco\\Code\\Functions.py:309: RuntimeWarning: invalid value encountered in divide\n",
      "  VIM_list = R2_changes/ np.sum(R2_changes)\n"
     ]
    },
    {
     "name": "stdout",
     "output_type": "stream",
     "text": [
      "Percentage of run time:  85.49 %\n",
      "Temp R2 score:  -0.04613383515652214\n"
     ]
    },
    {
     "name": "stderr",
     "output_type": "stream",
     "text": [
      "c:\\Users\\sunny\\Downloads\\Master QF\\3 Seminar Case\\Robeco\\Code\\Functions.py:309: RuntimeWarning: invalid value encountered in divide\n",
      "  VIM_list = R2_changes/ np.sum(R2_changes)\n"
     ]
    },
    {
     "name": "stdout",
     "output_type": "stream",
     "text": [
      "Percentage of run time:  86.01 %\n",
      "Temp R2 score:  -0.047986888717211906\n"
     ]
    },
    {
     "name": "stderr",
     "output_type": "stream",
     "text": [
      "c:\\Users\\sunny\\Downloads\\Master QF\\3 Seminar Case\\Robeco\\Code\\Functions.py:309: RuntimeWarning: invalid value encountered in divide\n",
      "  VIM_list = R2_changes/ np.sum(R2_changes)\n"
     ]
    },
    {
     "name": "stdout",
     "output_type": "stream",
     "text": [
      "Percentage of run time:  86.53 %\n",
      "Temp R2 score:  -0.04862981902960595\n"
     ]
    },
    {
     "name": "stderr",
     "output_type": "stream",
     "text": [
      "c:\\Users\\sunny\\Downloads\\Master QF\\3 Seminar Case\\Robeco\\Code\\Functions.py:309: RuntimeWarning: invalid value encountered in divide\n",
      "  VIM_list = R2_changes/ np.sum(R2_changes)\n"
     ]
    },
    {
     "name": "stdout",
     "output_type": "stream",
     "text": [
      "Percentage of run time:  87.05 %\n",
      "Temp R2 score:  -0.0492564434599192\n"
     ]
    },
    {
     "name": "stderr",
     "output_type": "stream",
     "text": [
      "c:\\Users\\sunny\\Downloads\\Master QF\\3 Seminar Case\\Robeco\\Code\\Functions.py:309: RuntimeWarning: invalid value encountered in divide\n",
      "  VIM_list = R2_changes/ np.sum(R2_changes)\n"
     ]
    },
    {
     "name": "stdout",
     "output_type": "stream",
     "text": [
      "Percentage of run time:  87.56 %\n",
      "Temp R2 score:  -0.04873943515410195\n"
     ]
    },
    {
     "name": "stderr",
     "output_type": "stream",
     "text": [
      "c:\\Users\\sunny\\Downloads\\Master QF\\3 Seminar Case\\Robeco\\Code\\Functions.py:309: RuntimeWarning: invalid value encountered in divide\n",
      "  VIM_list = R2_changes/ np.sum(R2_changes)\n"
     ]
    },
    {
     "name": "stdout",
     "output_type": "stream",
     "text": [
      "Percentage of run time:  88.08 %\n",
      "Temp R2 score:  -0.04874728344006396\n"
     ]
    },
    {
     "name": "stderr",
     "output_type": "stream",
     "text": [
      "c:\\Users\\sunny\\Downloads\\Master QF\\3 Seminar Case\\Robeco\\Code\\Functions.py:309: RuntimeWarning: invalid value encountered in divide\n",
      "  VIM_list = R2_changes/ np.sum(R2_changes)\n"
     ]
    },
    {
     "name": "stdout",
     "output_type": "stream",
     "text": [
      "Percentage of run time:  88.6 %\n",
      "Temp R2 score:  -0.04896293452570388\n"
     ]
    },
    {
     "name": "stderr",
     "output_type": "stream",
     "text": [
      "c:\\Users\\sunny\\Downloads\\Master QF\\3 Seminar Case\\Robeco\\Code\\Functions.py:309: RuntimeWarning: invalid value encountered in divide\n",
      "  VIM_list = R2_changes/ np.sum(R2_changes)\n"
     ]
    },
    {
     "name": "stdout",
     "output_type": "stream",
     "text": [
      "Percentage of run time:  89.12 %\n",
      "Temp R2 score:  -0.04750536121151905\n"
     ]
    },
    {
     "name": "stderr",
     "output_type": "stream",
     "text": [
      "c:\\Users\\sunny\\Downloads\\Master QF\\3 Seminar Case\\Robeco\\Code\\Functions.py:309: RuntimeWarning: invalid value encountered in divide\n",
      "  VIM_list = R2_changes/ np.sum(R2_changes)\n"
     ]
    },
    {
     "name": "stdout",
     "output_type": "stream",
     "text": [
      "Percentage of run time:  89.64 %\n",
      "Temp R2 score:  -0.048129052796377136\n"
     ]
    },
    {
     "name": "stderr",
     "output_type": "stream",
     "text": [
      "c:\\Users\\sunny\\Downloads\\Master QF\\3 Seminar Case\\Robeco\\Code\\Functions.py:309: RuntimeWarning: invalid value encountered in divide\n",
      "  VIM_list = R2_changes/ np.sum(R2_changes)\n",
      "c:\\Users\\sunny\\Downloads\\Master QF\\3 Seminar Case\\Robeco\\Code\\Functions.py:309: RuntimeWarning: invalid value encountered in divide\n",
      "  VIM_list = R2_changes/ np.sum(R2_changes)\n"
     ]
    },
    {
     "name": "stdout",
     "output_type": "stream",
     "text": [
      "Percentage of run time:  90.16 %\n",
      "Temp R2 score:  -0.04777253713597562\n",
      "Percentage of run time:  90.67 %\n",
      "Temp R2 score:  -0.0472135804809668\n"
     ]
    },
    {
     "name": "stderr",
     "output_type": "stream",
     "text": [
      "c:\\Users\\sunny\\Downloads\\Master QF\\3 Seminar Case\\Robeco\\Code\\Functions.py:309: RuntimeWarning: invalid value encountered in divide\n",
      "  VIM_list = R2_changes/ np.sum(R2_changes)\n"
     ]
    },
    {
     "name": "stdout",
     "output_type": "stream",
     "text": [
      "Percentage of run time:  91.19 %\n",
      "Temp R2 score:  -0.04706203498139927\n"
     ]
    },
    {
     "name": "stderr",
     "output_type": "stream",
     "text": [
      "c:\\Users\\sunny\\Downloads\\Master QF\\3 Seminar Case\\Robeco\\Code\\Functions.py:309: RuntimeWarning: invalid value encountered in divide\n",
      "  VIM_list = R2_changes/ np.sum(R2_changes)\n",
      "c:\\Users\\sunny\\Downloads\\Master QF\\3 Seminar Case\\Robeco\\Code\\Functions.py:309: RuntimeWarning: invalid value encountered in divide\n",
      "  VIM_list = R2_changes/ np.sum(R2_changes)\n"
     ]
    },
    {
     "name": "stdout",
     "output_type": "stream",
     "text": [
      "Percentage of run time:  91.71 %\n",
      "Temp R2 score:  -0.04614757401747682\n",
      "Percentage of run time:  92.23 %\n",
      "Temp R2 score:  -0.04177384845614096\n"
     ]
    },
    {
     "name": "stderr",
     "output_type": "stream",
     "text": [
      "c:\\Users\\sunny\\Downloads\\Master QF\\3 Seminar Case\\Robeco\\Code\\Functions.py:309: RuntimeWarning: invalid value encountered in divide\n",
      "  VIM_list = R2_changes/ np.sum(R2_changes)\n"
     ]
    },
    {
     "name": "stdout",
     "output_type": "stream",
     "text": [
      "Percentage of run time:  92.75 %\n",
      "Temp R2 score:  -0.041468352453561064\n"
     ]
    },
    {
     "name": "stderr",
     "output_type": "stream",
     "text": [
      "c:\\Users\\sunny\\Downloads\\Master QF\\3 Seminar Case\\Robeco\\Code\\Functions.py:309: RuntimeWarning: invalid value encountered in divide\n",
      "  VIM_list = R2_changes/ np.sum(R2_changes)\n"
     ]
    },
    {
     "name": "stdout",
     "output_type": "stream",
     "text": [
      "Percentage of run time:  93.26 %\n",
      "Temp R2 score:  -0.04145248084961595\n"
     ]
    },
    {
     "name": "stderr",
     "output_type": "stream",
     "text": [
      "c:\\Users\\sunny\\Downloads\\Master QF\\3 Seminar Case\\Robeco\\Code\\Functions.py:309: RuntimeWarning: invalid value encountered in divide\n",
      "  VIM_list = R2_changes/ np.sum(R2_changes)\n"
     ]
    },
    {
     "name": "stdout",
     "output_type": "stream",
     "text": [
      "Percentage of run time:  93.78 %\n",
      "Temp R2 score:  -0.041548116527639234\n"
     ]
    },
    {
     "name": "stderr",
     "output_type": "stream",
     "text": [
      "c:\\Users\\sunny\\Downloads\\Master QF\\3 Seminar Case\\Robeco\\Code\\Functions.py:309: RuntimeWarning: invalid value encountered in divide\n",
      "  VIM_list = R2_changes/ np.sum(R2_changes)\n",
      "c:\\Users\\sunny\\Downloads\\Master QF\\3 Seminar Case\\Robeco\\Code\\Functions.py:309: RuntimeWarning: invalid value encountered in divide\n",
      "  VIM_list = R2_changes/ np.sum(R2_changes)\n"
     ]
    },
    {
     "name": "stdout",
     "output_type": "stream",
     "text": [
      "Percentage of run time:  94.3 %\n",
      "Temp R2 score:  -0.04164930427136815\n",
      "Percentage of run time:  94.82 %\n",
      "Temp R2 score:  -0.0430917822191097\n"
     ]
    },
    {
     "name": "stderr",
     "output_type": "stream",
     "text": [
      "c:\\Users\\sunny\\Downloads\\Master QF\\3 Seminar Case\\Robeco\\Code\\Functions.py:309: RuntimeWarning: invalid value encountered in divide\n",
      "  VIM_list = R2_changes/ np.sum(R2_changes)\n"
     ]
    },
    {
     "name": "stdout",
     "output_type": "stream",
     "text": [
      "Percentage of run time:  95.34 %\n",
      "Temp R2 score:  -0.042496312503119915\n"
     ]
    },
    {
     "name": "stderr",
     "output_type": "stream",
     "text": [
      "c:\\Users\\sunny\\Downloads\\Master QF\\3 Seminar Case\\Robeco\\Code\\Functions.py:309: RuntimeWarning: invalid value encountered in divide\n",
      "  VIM_list = R2_changes/ np.sum(R2_changes)\n"
     ]
    },
    {
     "name": "stdout",
     "output_type": "stream",
     "text": [
      "Percentage of run time:  95.85 %\n",
      "Temp R2 score:  -0.040260782582392185\n"
     ]
    },
    {
     "name": "stderr",
     "output_type": "stream",
     "text": [
      "c:\\Users\\sunny\\Downloads\\Master QF\\3 Seminar Case\\Robeco\\Code\\Functions.py:309: RuntimeWarning: invalid value encountered in divide\n",
      "  VIM_list = R2_changes/ np.sum(R2_changes)\n",
      "c:\\Users\\sunny\\Downloads\\Master QF\\3 Seminar Case\\Robeco\\Code\\Functions.py:309: RuntimeWarning: invalid value encountered in divide\n",
      "  VIM_list = R2_changes/ np.sum(R2_changes)\n"
     ]
    },
    {
     "name": "stdout",
     "output_type": "stream",
     "text": [
      "Percentage of run time:  96.37 %\n",
      "Temp R2 score:  -0.037336579555532934\n",
      "Percentage of run time:  96.89 %\n",
      "Temp R2 score:  -0.038853632163550644\n"
     ]
    },
    {
     "name": "stderr",
     "output_type": "stream",
     "text": [
      "c:\\Users\\sunny\\Downloads\\Master QF\\3 Seminar Case\\Robeco\\Code\\Functions.py:309: RuntimeWarning: invalid value encountered in divide\n",
      "  VIM_list = R2_changes/ np.sum(R2_changes)\n",
      "c:\\Users\\sunny\\Downloads\\Master QF\\3 Seminar Case\\Robeco\\Code\\Functions.py:309: RuntimeWarning: invalid value encountered in divide\n",
      "  VIM_list = R2_changes/ np.sum(R2_changes)\n"
     ]
    },
    {
     "name": "stdout",
     "output_type": "stream",
     "text": [
      "Percentage of run time:  97.41 %\n",
      "Temp R2 score:  -0.03801283492293428\n",
      "Percentage of run time:  97.93 %\n",
      "Temp R2 score:  -0.03525346180536393\n"
     ]
    },
    {
     "name": "stderr",
     "output_type": "stream",
     "text": [
      "c:\\Users\\sunny\\Downloads\\Master QF\\3 Seminar Case\\Robeco\\Code\\Functions.py:309: RuntimeWarning: invalid value encountered in divide\n",
      "  VIM_list = R2_changes/ np.sum(R2_changes)\n"
     ]
    },
    {
     "name": "stdout",
     "output_type": "stream",
     "text": [
      "Percentage of run time:  98.45 %\n",
      "Temp R2 score:  -0.03415537418981396\n"
     ]
    },
    {
     "name": "stderr",
     "output_type": "stream",
     "text": [
      "c:\\Users\\sunny\\Downloads\\Master QF\\3 Seminar Case\\Robeco\\Code\\Functions.py:309: RuntimeWarning: invalid value encountered in divide\n",
      "  VIM_list = R2_changes/ np.sum(R2_changes)\n"
     ]
    },
    {
     "name": "stdout",
     "output_type": "stream",
     "text": [
      "Percentage of run time:  98.96 %\n",
      "Temp R2 score:  -0.02836438190953272\n"
     ]
    },
    {
     "name": "stderr",
     "output_type": "stream",
     "text": [
      "c:\\Users\\sunny\\Downloads\\Master QF\\3 Seminar Case\\Robeco\\Code\\Functions.py:309: RuntimeWarning: invalid value encountered in divide\n",
      "  VIM_list = R2_changes/ np.sum(R2_changes)\n"
     ]
    },
    {
     "name": "stdout",
     "output_type": "stream",
     "text": [
      "Percentage of run time:  99.48 %\n",
      "Temp R2 score:  -0.02532463852451783\n",
      "Percentage of run time:  100.0 %\n",
      "Temp R2 score:  -0.025068919203584006\n",
      "Traditional R2 score:  -0.025068919203584006\n",
      "Gu Kelly R2 score: -0.0023483589782447023\n"
     ]
    },
    {
     "name": "stderr",
     "output_type": "stream",
     "text": [
      "c:\\Users\\sunny\\Downloads\\Master QF\\3 Seminar Case\\Robeco\\Code\\Functions.py:309: RuntimeWarning: invalid value encountered in divide\n",
      "  VIM_list = R2_changes/ np.sum(R2_changes)\n"
     ]
    }
   ],
   "source": [
    "Y_pred = fit_model(X_train, Y_train, X_val, Y_val, X_test, Y_test, 'Elastic', param_grid, retain_month = 1, hypertuneOnce = False)"
   ]
  },
  {
   "cell_type": "code",
   "execution_count": null,
   "metadata": {},
   "outputs": [],
   "source": []
  }
 ],
 "metadata": {
  "kernelspec": {
   "display_name": "Python 3",
   "language": "python",
   "name": "python3"
  },
  "language_info": {
   "codemirror_mode": {
    "name": "ipython",
    "version": 3
   },
   "file_extension": ".py",
   "mimetype": "text/x-python",
   "name": "python",
   "nbconvert_exporter": "python",
   "pygments_lexer": "ipython3",
   "version": "3.11.0"
  },
  "orig_nbformat": 4,
  "vscode": {
   "interpreter": {
    "hash": "db35a02fd5d0ba4c5963f2cd8d92bdb63f7f3bde1f98582f1ef84023082d273b"
   }
  }
 },
 "nbformat": 4,
 "nbformat_minor": 2
}
